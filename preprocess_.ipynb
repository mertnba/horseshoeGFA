{
 "cells": [
  {
   "cell_type": "code",
   "execution_count": null,
   "outputs": [],
   "source": [
    "import pandas as pd\n",
    "import os\n",
    "import numpy as np\n",
    "import pickle\n",
    "import matplotlib.pyplot as plt\n",
    "from scipy.stats import invgamma\n",
    "import sys\n",
    "import matplotlib.pyplot as plt"
   ],
   "metadata": {
    "collapsed": false
   },
   "id": "98931b61cc4b3522"
  },
  {
   "cell_type": "markdown",
   "source": [
    "### structural MRI"
   ],
   "metadata": {
    "collapsed": false
   },
   "id": "dc9c07fbb0774a2e"
  },
  {
   "cell_type": "code",
   "execution_count": null,
   "id": "initial_id",
   "metadata": {
    "collapsed": true
   },
   "outputs": [],
   "source": [
    "smri_cort_path = \"./aida_data/smri/smri_/roi_gm_cort_values.xlsx\"\n",
    "smri_sub_path = \"./aida_data/smri/smri_/roi_gm_sub_values.xlsx\"\n",
    "\n",
    "smri_cort = pd.read_excel(smri_cort_path)\n",
    "smri_sub = pd.read_excel(smri_sub_path)"
   ]
  },
  {
   "cell_type": "code",
   "execution_count": null,
   "outputs": [],
   "source": [
    "smri_cort.rename(columns={smri_cort.columns[0]: 'ppid'}, inplace=True)\n",
    "smri_sub.rename(columns={smri_sub.columns[0]: 'ppid'}, inplace=True)"
   ],
   "metadata": {
    "collapsed": false
   },
   "id": "9f14d3b7b54e3b44"
  },
  {
   "cell_type": "code",
   "execution_count": null,
   "outputs": [],
   "source": [
    "smri_sub_dropped = smri_sub.drop(smri_sub.columns[0], axis=1)\n",
    "whole_df = pd.concat([smri_cort, smri_sub_dropped], axis=1)"
   ],
   "metadata": {
    "collapsed": false
   },
   "id": "a1d1c49c5905131b"
  },
  {
   "cell_type": "code",
   "execution_count": null,
   "outputs": [],
   "source": [
    "whole_df = whole_df[~whole_df.iloc[:, 0].str.contains('_T2', na=False)]\n",
    "whole_df['ppid'] = whole_df['ppid'].apply(lambda value: int(value[-11:-7]))\n",
    "whole_df = whole_df[whole_df['ppid'].astype(str).str.startswith(('1', '3'))]"
   ],
   "metadata": {
    "collapsed": false
   },
   "id": "abad63206dd9bd6e"
  },
  {
   "cell_type": "code",
   "execution_count": null,
   "outputs": [],
   "source": [
    "new_columns = list(whole_df.columns)\n",
    "new_columns[1:49] = [f'{i}c' for i in range(1, 49)]\n",
    "new_columns[49:] = [f'{i}s' for i in range(1, 22)]\n",
    "whole_df.columns = new_columns"
   ],
   "metadata": {
    "collapsed": false
   },
   "id": "7aae7c666ba46be5"
  },
  {
   "cell_type": "code",
   "execution_count": null,
   "outputs": [],
   "source": [
    "whole_df.to_csv('roi_gm_WHOLE_T1.csv', index=False)"
   ],
   "metadata": {
    "collapsed": false
   },
   "id": "393fbb92f2af238"
  },
  {
   "cell_type": "markdown",
   "source": [
    "### fMRI - positive"
   ],
   "metadata": {
    "collapsed": false
   },
   "id": "b51660740f96f0bb"
  },
  {
   "cell_type": "code",
   "execution_count": null,
   "outputs": [],
   "source": [
    "fmri_pos_cor_path = \"./aida_data/fmri/positive/positive_/roi_contrast_cort_pat_pos_values.xlsx\"\n",
    "fmri_pos_sub_path = \"./aida_data/fmri/positive/positive_/roi_contrast_sub_pat_pos_values.xlsx\""
   ],
   "metadata": {
    "collapsed": false
   },
   "id": "a8db9f6cf9d2f9ca"
  },
  {
   "cell_type": "code",
   "execution_count": null,
   "outputs": [],
   "source": [
    "fmri_pos_cor = pd.read_excel(fmri_pos_cor_path)\n",
    "fmri_pos_sub = pd.read_excel(fmri_pos_sub_path)\n",
    "\n",
    "fmri_pos_cor = fmri_pos_cor[~fmri_pos_cor.iloc[:, 0].str.contains('_T2', na=False)]\n",
    "fmri_pos_sub = fmri_pos_sub[~fmri_pos_sub.iloc[:, 0].str.contains('_T2', na=False)]"
   ],
   "metadata": {
    "collapsed": false
   },
   "id": "9e80186929bf9e00"
  },
  {
   "cell_type": "code",
   "execution_count": null,
   "outputs": [],
   "source": [
    "fmri_pos_cor.rename(columns={fmri_pos_cor.columns[0]: 'ppid'}, inplace=True)\n",
    "fmri_pos_sub.rename(columns={fmri_pos_sub.columns[0]: 'ppid'}, inplace=True)"
   ],
   "metadata": {
    "collapsed": false
   },
   "id": "54f5fffb4c3eb152"
  },
  {
   "cell_type": "code",
   "execution_count": null,
   "outputs": [],
   "source": [
    "fmri_pos_sub_dropped = fmri_pos_sub.drop(fmri_pos_sub.columns[0], axis=1)\n",
    "whole_df = pd.concat([fmri_pos_cor, fmri_pos_sub_dropped], axis=1)"
   ],
   "metadata": {
    "collapsed": false
   },
   "id": "b33eabc22fe413b8"
  },
  {
   "cell_type": "code",
   "execution_count": null,
   "outputs": [],
   "source": [
    "whole_df['ppid'] = whole_df['ppid'].apply(lambda value: int(value[:4]))"
   ],
   "metadata": {
    "collapsed": false
   },
   "id": "4b19177a27e75134"
  },
  {
   "cell_type": "code",
   "execution_count": null,
   "outputs": [],
   "source": [
    "new_columns = list(whole_df.columns)\n",
    "new_columns[1:49] = [f'{i}_pos_cor' for i in range(1, 49)]\n",
    "new_columns[49:] = [f'{i}_pos_sub' for i in range(1, 22)]\n",
    "whole_df.columns = new_columns"
   ],
   "metadata": {
    "collapsed": false
   },
   "id": "9076e1db795f0c47"
  },
  {
   "cell_type": "code",
   "execution_count": null,
   "outputs": [],
   "source": [
    "whole_df.to_csv('roi_contrast_WHOLE_pat_pos_values.csv', index=False)"
   ],
   "metadata": {
    "collapsed": false
   },
   "id": "ed49dc87d7f54339"
  },
  {
   "cell_type": "markdown",
   "source": [
    "### fMRI - positive - beta1"
   ],
   "metadata": {
    "collapsed": false
   },
   "id": "2aef1741c4864c69"
  },
  {
   "cell_type": "code",
   "execution_count": null,
   "outputs": [],
   "source": [
    "fmri_pos_cor_beta1_path = \"./aida_data/fmri/positive/positive_/roi_beta1_cort_pos_values.xlsx\"\n",
    "fmri_pos_sub_beta1_path = \"./aida_data/fmri/positive/positive_/roi_beta1_sub_pos_values.xlsx\""
   ],
   "metadata": {
    "collapsed": false
   },
   "id": "57777987d24c7522"
  },
  {
   "cell_type": "code",
   "execution_count": null,
   "outputs": [],
   "source": [
    "fmri_pos_cor_beta1 = pd.read_excel(fmri_pos_cor_beta1_path)\n",
    "fmri_pos_sub_beta1 = pd.read_excel(fmri_pos_sub_beta1_path)\n",
    "\n",
    "fmri_pos_cor_beta1 = fmri_pos_cor_beta1[~fmri_pos_cor_beta1.iloc[:, 0].str.contains('-t2', na=False)]\n",
    "fmri_pos_sub_beta1 = fmri_pos_sub_beta1[~fmri_pos_sub_beta1.iloc[:, 0].str.contains('-t2', na=False)]"
   ],
   "metadata": {
    "collapsed": false
   },
   "id": "5e4dfb7ddab413f2"
  },
  {
   "cell_type": "code",
   "execution_count": null,
   "outputs": [],
   "source": [
    "fmri_pos_cor_beta1.rename(columns={fmri_pos_cor_beta1.columns[0]: 'ppid'}, inplace=True)\n",
    "fmri_pos_sub_beta1.rename(columns={fmri_pos_sub_beta1.columns[0]: 'ppid'}, inplace=True)"
   ],
   "metadata": {
    "collapsed": false
   },
   "id": "8471f7d8dab907b4"
  },
  {
   "cell_type": "code",
   "execution_count": null,
   "outputs": [],
   "source": [
    "fmri_pos_cor_beta1.iloc[:, 0] = fmri_pos_cor_beta1.iloc[:, 0].str.slice(3, 7)\n",
    "fmri_pos_sub_beta1.iloc[:, 0] = fmri_pos_sub_beta1.iloc[:, 0].str.slice(3, 7)"
   ],
   "metadata": {
    "collapsed": false
   },
   "id": "1774fc4028b3bd69"
  },
  {
   "cell_type": "code",
   "execution_count": null,
   "outputs": [],
   "source": [
    "fmri_pos_sub_dropped = fmri_pos_sub_beta1.drop(fmri_pos_sub_beta1.columns[0], axis=1)\n",
    "whole_df = pd.concat([fmri_pos_cor_beta1, fmri_pos_sub_dropped], axis=1)"
   ],
   "metadata": {
    "collapsed": false
   },
   "id": "da720f952cc555ff"
  },
  {
   "cell_type": "code",
   "execution_count": null,
   "outputs": [],
   "source": [
    "whole_df['ppid'] = whole_df['ppid'].apply(lambda value: int(value[:4]))"
   ],
   "metadata": {
    "collapsed": false
   },
   "id": "c515fb10648e6396"
  },
  {
   "cell_type": "code",
   "execution_count": null,
   "outputs": [],
   "source": [
    "new_columns = list(whole_df.columns)\n",
    "new_columns[1:49] = [f'{i}_pos_cor_beta1' for i in range(1, 49)]\n",
    "new_columns[49:] = [f'{i}_pos_sub_beta1' for i in range(1, 22)]\n",
    "whole_df.columns = new_columns"
   ],
   "metadata": {
    "collapsed": false
   },
   "id": "4171b4d3096c0ec6"
  },
  {
   "cell_type": "code",
   "execution_count": null,
   "outputs": [],
   "source": [
    "whole_df.to_csv('roi_beta1_WHOLE_pat_pos.csv', index=False)"
   ],
   "metadata": {
    "collapsed": false
   },
   "id": "38e23a339a361041"
  },
  {
   "cell_type": "markdown",
   "source": [
    "### fMRI - positive - beta3"
   ],
   "metadata": {
    "collapsed": false
   },
   "id": "e48b9852c07d8deb"
  },
  {
   "cell_type": "code",
   "execution_count": null,
   "outputs": [],
   "source": [
    "fmri_pos_cor_beta3_path = \"./aida_data/fmri/positive/positive_/roi_beta3_cort_pos_values.xlsx\"\n",
    "fmri_pos_sub_beta3_path = \"./aida_data/fmri/positive/positive_/roi_beta3_sub_pos_values.xlsx\""
   ],
   "metadata": {
    "collapsed": false
   },
   "id": "d109b9044c76d332"
  },
  {
   "cell_type": "code",
   "execution_count": null,
   "outputs": [],
   "source": [
    "fmri_pos_cor_beta3 = pd.read_excel(fmri_pos_cor_beta3_path)\n",
    "fmri_pos_sub_beta3 = pd.read_excel(fmri_pos_sub_beta3_path)\n",
    "\n",
    "fmri_pos_cor_beta3 = fmri_pos_cor_beta3[~fmri_pos_cor_beta3.iloc[:, 0].str.contains('-t2', na=False)]\n",
    "fmri_pos_sub_beta3 = fmri_pos_sub_beta3[~fmri_pos_sub_beta3.iloc[:, 0].str.contains('-t2', na=False)]"
   ],
   "metadata": {
    "collapsed": false
   },
   "id": "9be000f7d6e15672"
  },
  {
   "cell_type": "code",
   "execution_count": null,
   "outputs": [],
   "source": [
    "fmri_pos_cor_beta3.rename(columns={fmri_pos_cor_beta3.columns[0]: 'ppid'}, inplace=True)\n",
    "fmri_pos_sub_beta3.rename(columns={fmri_pos_sub_beta3.columns[0]: 'ppid'}, inplace=True)"
   ],
   "metadata": {
    "collapsed": false
   },
   "id": "b9b600ab76dc8d29"
  },
  {
   "cell_type": "code",
   "execution_count": null,
   "outputs": [],
   "source": [
    "fmri_pos_cor_beta3.iloc[:, 0] = fmri_pos_cor_beta3.iloc[:, 0].str.slice(3, 7)\n",
    "fmri_pos_sub_beta3.iloc[:, 0] = fmri_pos_sub_beta3.iloc[:, 0].str.slice(3, 7)"
   ],
   "metadata": {
    "collapsed": false
   },
   "id": "58221fd2cee8ac77"
  },
  {
   "cell_type": "code",
   "execution_count": null,
   "outputs": [],
   "source": [
    "fmri_pos_sub_dropped = fmri_pos_sub_beta3.drop(fmri_pos_sub_beta3.columns[0], axis=1)\n",
    "whole_df = pd.concat([fmri_pos_cor_beta3, fmri_pos_sub_dropped], axis=1)"
   ],
   "metadata": {
    "collapsed": false
   },
   "id": "40b21ff831322e81"
  },
  {
   "cell_type": "code",
   "execution_count": null,
   "outputs": [],
   "source": [
    "whole_df['ppid'] = whole_df['ppid'].apply(lambda value: int(value[:4]))"
   ],
   "metadata": {
    "collapsed": false
   },
   "id": "4055ed8fa492ea11"
  },
  {
   "cell_type": "code",
   "execution_count": null,
   "outputs": [],
   "source": [
    "new_columns = list(whole_df.columns)\n",
    "new_columns[1:49] = [f'{i}_pos_cor_beta3' for i in range(1, 49)]\n",
    "new_columns[49:] = [f'{i}_pos_sub_beta3' for i in range(1, 22)]\n",
    "whole_df.columns = new_columns"
   ],
   "metadata": {
    "collapsed": false
   },
   "id": "dab26ca0516f3fe6"
  },
  {
   "cell_type": "code",
   "execution_count": null,
   "outputs": [],
   "source": [
    "whole_df.to_csv('roi_beta3_WHOLE_pat_pos.csv', index=False)"
   ],
   "metadata": {
    "collapsed": false
   },
   "id": "b7c07a1010634cc6"
  },
  {
   "cell_type": "markdown",
   "source": [
    "### fMRI - negative"
   ],
   "metadata": {
    "collapsed": false
   },
   "id": "f4346c6b1c7e109"
  },
  {
   "cell_type": "code",
   "execution_count": null,
   "outputs": [],
   "source": [
    "fmri_neg_cor_path = \"./aida_data/fmri/negative/negative_/roi_contrast_cort_pat_neg_values.xlsx\"\n",
    "fmri_neg_sub_path = \"./aida_data/fmri/negative/negative_/roi_contrast_sub_pat_neg_values.xlsx\""
   ],
   "metadata": {
    "collapsed": false
   },
   "id": "b6fe84db0575fa"
  },
  {
   "cell_type": "code",
   "execution_count": null,
   "outputs": [],
   "source": [
    "fmri_neg_cor = pd.read_excel(fmri_neg_cor_path)\n",
    "fmri_neg_sub = pd.read_excel(fmri_neg_sub_path)\n",
    "\n",
    "fmri_neg_cor = fmri_neg_cor[~fmri_neg_cor.iloc[:, 0].str.contains('_T2', na=False)]\n",
    "fmri_neg_sub = fmri_neg_sub[~fmri_neg_sub.iloc[:, 0].str.contains('_T2', na=False)]"
   ],
   "metadata": {
    "collapsed": false
   },
   "id": "bc118f61e326e445"
  },
  {
   "cell_type": "code",
   "execution_count": null,
   "outputs": [],
   "source": [
    "fmri_neg_cor.rename(columns={fmri_neg_cor.columns[0]: 'ppid'}, inplace=True)\n",
    "fmri_neg_sub.rename(columns={fmri_neg_sub.columns[0]: 'ppid'}, inplace=True)"
   ],
   "metadata": {
    "collapsed": false
   },
   "id": "4710992c41961e9f"
  },
  {
   "cell_type": "code",
   "execution_count": null,
   "outputs": [],
   "source": [
    "fmri_neg_sub_dropped = fmri_neg_sub.drop(fmri_neg_sub.columns[0], axis=1)\n",
    "whole_df = pd.concat([fmri_neg_cor, fmri_neg_sub_dropped], axis=1)"
   ],
   "metadata": {
    "collapsed": false
   },
   "id": "56689353db9d7f96"
  },
  {
   "cell_type": "code",
   "execution_count": null,
   "outputs": [],
   "source": [
    "whole_df['ppid'] = whole_df['ppid'].apply(lambda value: int(value[:4]))"
   ],
   "metadata": {
    "collapsed": false
   },
   "id": "aa132b38ce38143a"
  },
  {
   "cell_type": "code",
   "execution_count": null,
   "outputs": [],
   "source": [
    "new_columns = list(whole_df.columns)\n",
    "new_columns[1:49] = [f'{i}_neg_cor' for i in range(1, 49)]\n",
    "new_columns[49:] = [f'{i}_neg_sub' for i in range(1, 22)]\n",
    "whole_df.columns = new_columns"
   ],
   "metadata": {
    "collapsed": false
   },
   "id": "2c3bfef30706d76b"
  },
  {
   "cell_type": "code",
   "execution_count": null,
   "outputs": [],
   "source": [
    "whole_df.to_csv('roi_contrast_WHOLE_pat_neg_values.csv', index=False)"
   ],
   "metadata": {
    "collapsed": false
   },
   "id": "32cad2c7532682fe"
  },
  {
   "cell_type": "markdown",
   "source": [
    "### fMRI - negative - beta1"
   ],
   "metadata": {
    "collapsed": false
   },
   "id": "f8cd2edb974c8d69"
  },
  {
   "cell_type": "code",
   "execution_count": null,
   "outputs": [],
   "source": [
    "fmri_neg_cor_beta1_path = \"./aida_data/fmri/negative/negative_/roi_beta1_cort_neg_values.xlsx\"\n",
    "fmri_neg_sub_beta1_path = \"./aida_data/fmri/negative/negative_/roi_beta1_sub_neg_values.xlsx\""
   ],
   "metadata": {
    "collapsed": false
   },
   "id": "3d5a25ca3e355ef7"
  },
  {
   "cell_type": "code",
   "execution_count": null,
   "outputs": [],
   "source": [
    "fmri_neg_cor_beta1 = pd.read_excel(fmri_neg_cor_beta1_path)\n",
    "fmri_neg_sub_beta1 = pd.read_excel(fmri_neg_sub_beta1_path)\n",
    "\n",
    "fmri_neg_cor_beta1 = fmri_neg_cor_beta1[~fmri_neg_cor_beta1.iloc[:, 0].str.contains('-t2', na=False)]\n",
    "fmri_neg_sub_beta1 = fmri_neg_sub_beta1[~fmri_neg_sub_beta1.iloc[:, 0].str.contains('-t2', na=False)]"
   ],
   "metadata": {
    "collapsed": false
   },
   "id": "fe596c2a9d70de1a"
  },
  {
   "cell_type": "code",
   "execution_count": null,
   "outputs": [],
   "source": [
    "fmri_neg_cor_beta1.rename(columns={fmri_neg_cor_beta1.columns[0]: 'ppid'}, inplace=True)\n",
    "fmri_neg_sub_beta1.rename(columns={fmri_neg_sub_beta1.columns[0]: 'ppid'}, inplace=True)\n",
    "\n",
    "fmri_neg_cor_beta1.iloc[:, 0] = fmri_neg_cor_beta1.iloc[:, 0].str.slice(3, 7)\n",
    "fmri_neg_sub_beta1.iloc[:, 0] = fmri_neg_sub_beta1.iloc[:, 0].str.slice(3, 7)"
   ],
   "metadata": {
    "collapsed": false
   },
   "id": "214bfb0288a73c65"
  },
  {
   "cell_type": "code",
   "execution_count": null,
   "outputs": [],
   "source": [
    "fmri_neg_sub_dropped = fmri_neg_sub_beta1.drop(fmri_neg_sub_beta1.columns[0], axis=1)\n",
    "whole_df = pd.concat([fmri_neg_cor_beta1, fmri_neg_sub_dropped], axis=1)"
   ],
   "metadata": {
    "collapsed": false
   },
   "id": "9ec2f2a521c30f70"
  },
  {
   "cell_type": "code",
   "execution_count": null,
   "outputs": [],
   "source": [
    "whole_df['ppid'] = whole_df['ppid'].apply(lambda value: int(value[:4]))"
   ],
   "metadata": {
    "collapsed": false
   },
   "id": "77cf4404dc2050a7"
  },
  {
   "cell_type": "code",
   "execution_count": null,
   "outputs": [],
   "source": [
    "new_columns = list(whole_df.columns)\n",
    "new_columns[1:49] = [f'{i}_neg_cor_beta1' for i in range(1, 49)]\n",
    "new_columns[49:] = [f'{i}_neg_sub_beta1' for i in range(1, 22)]\n",
    "whole_df.columns = new_columns"
   ],
   "metadata": {
    "collapsed": false
   },
   "id": "ce54536cd2e87ea4"
  },
  {
   "cell_type": "code",
   "execution_count": null,
   "outputs": [],
   "source": [
    "whole_df.to_csv('roi_beta1_WHOLE_pat_neg.csv', index=False)"
   ],
   "metadata": {
    "collapsed": false
   },
   "id": "46f6ca220d17fc47"
  },
  {
   "cell_type": "markdown",
   "source": [
    "### fMRI - negative - beta3"
   ],
   "metadata": {
    "collapsed": false
   },
   "id": "bc408a354c7ad14b"
  },
  {
   "cell_type": "code",
   "execution_count": null,
   "outputs": [],
   "source": [
    "fmri_neg_cor_beta3_path = \"./aida_data/fmri/negative/negative_/roi_beta3_cort_neg_values.xlsx\"\n",
    "fmri_neg_sub_beta3_path = \"./aida_data/fmri/negative/negative_/roi_beta3_sub_neg_values.xlsx\""
   ],
   "metadata": {
    "collapsed": false
   },
   "id": "6d1c329fdcf0e004"
  },
  {
   "cell_type": "code",
   "execution_count": null,
   "outputs": [],
   "source": [
    "fmri_neg_cor_beta3 = pd.read_excel(fmri_neg_cor_beta3_path)\n",
    "fmri_neg_sub_beta3 = pd.read_excel(fmri_neg_sub_beta3_path)\n",
    "\n",
    "fmri_neg_cor_beta3 = fmri_neg_cor_beta3[~fmri_neg_cor_beta3.iloc[:, 0].str.contains('-t2', na=False)]\n",
    "fmri_neg_sub_beta3 = fmri_neg_sub_beta3[~fmri_neg_sub_beta3.iloc[:, 0].str.contains('-t2', na=False)]"
   ],
   "metadata": {
    "collapsed": false
   },
   "id": "a7f2824ff1c78fa2"
  },
  {
   "cell_type": "code",
   "execution_count": null,
   "outputs": [],
   "source": [
    "fmri_neg_cor_beta3.rename(columns={fmri_neg_cor_beta3.columns[0]: 'ppid'}, inplace=True)\n",
    "fmri_neg_sub_beta3.rename(columns={fmri_neg_sub_beta3.columns[0]: 'ppid'}, inplace=True)\n",
    "\n",
    "fmri_neg_cor_beta3.iloc[:, 0] = fmri_neg_cor_beta3.iloc[:, 0].str.slice(3, 7)\n",
    "fmri_neg_sub_beta3.iloc[:, 0] = fmri_neg_sub_beta3.iloc[:, 0].str.slice(3, 7)"
   ],
   "metadata": {
    "collapsed": false
   },
   "id": "68403b5b605a222a"
  },
  {
   "cell_type": "code",
   "execution_count": null,
   "outputs": [],
   "source": [
    "fmri_neg_sub_dropped = fmri_neg_sub_beta3.drop(fmri_neg_sub_beta3.columns[0], axis=1)\n",
    "whole_df = pd.concat([fmri_neg_cor_beta3, fmri_neg_sub_dropped], axis=1)"
   ],
   "metadata": {
    "collapsed": false
   },
   "id": "dc2ead812969f8b"
  },
  {
   "cell_type": "code",
   "execution_count": null,
   "outputs": [],
   "source": [
    "whole_df['ppid'] = whole_df['ppid'].apply(lambda value: int(value[:4]))"
   ],
   "metadata": {
    "collapsed": false
   },
   "id": "95686f3000f8beb3"
  },
  {
   "cell_type": "code",
   "execution_count": null,
   "outputs": [],
   "source": [
    "new_columns = list(whole_df.columns)\n",
    "new_columns[1:49] = [f'{i}_neg_cor_beta3' for i in range(1, 49)]\n",
    "new_columns[49:] = [f'{i}_neg_sub_beta3' for i in range(1, 22)]\n",
    "whole_df.columns = new_columns"
   ],
   "metadata": {
    "collapsed": false
   },
   "id": "7badacd763a29478"
  },
  {
   "cell_type": "code",
   "execution_count": null,
   "outputs": [],
   "source": [
    "whole_df.to_csv('roi_beta3_WHOLE_pat_neg.csv', index=False)"
   ],
   "metadata": {
    "collapsed": false
   },
   "id": "6fce3cdd57e7941e"
  },
  {
   "cell_type": "markdown",
   "source": [
    "### EEG - neutral"
   ],
   "metadata": {
    "collapsed": false
   },
   "id": "1295897ebf836b5"
  },
  {
   "cell_type": "code",
   "execution_count": null,
   "outputs": [],
   "source": [
    "eeg_neutral_alpha_path = \"./aida_data/eeg/neutral/neutral_/neutral_alpha.xlsx\"\n",
    "eeg_neutral_beta_path = \"./aida_data/eeg/neutral/neutral_/neutral_beta.xlsx\"\n",
    "eeg_neutral_delta_path = \"./aida_data/eeg/neutral/neutral_/neutral_delta.xlsx\"\n",
    "eeg_neutral_gamma_path = \"./aida_data/eeg/neutral/neutral_/neutral_gamma.xlsx\"\n",
    "eeg_neutral_theta_path = \"./aida_data/eeg/neutral/neutral_/neutral_theta.xlsx\""
   ],
   "metadata": {
    "collapsed": false
   },
   "id": "28e1ad2ab34f9260"
  },
  {
   "cell_type": "code",
   "execution_count": null,
   "outputs": [],
   "source": [
    "eeg_neutral_alpha = pd.read_excel(eeg_neutral_alpha_path)\n",
    "eeg_neutral_beta = pd.read_excel(eeg_neutral_beta_path)\n",
    "eeg_neutral_delta = pd.read_excel(eeg_neutral_delta_path)\n",
    "eeg_neutral_gamma = pd.read_excel(eeg_neutral_gamma_path)\n",
    "eeg_neutral_theta = pd.read_excel(eeg_neutral_theta_path)"
   ],
   "metadata": {
    "collapsed": false
   },
   "id": "c51015f41347c219"
  },
  {
   "cell_type": "code",
   "execution_count": null,
   "outputs": [],
   "source": [
    "eeg_neutral_alpha.columns = [eeg_neutral_alpha.columns[0]] + [f'{col}_N_a' for col in eeg_neutral_alpha.columns[1:]]\n",
    "eeg_neutral_beta.columns = [eeg_neutral_beta.columns[0]] + [f'{col}_N_b' for col in eeg_neutral_beta.columns[1:]]\n",
    "eeg_neutral_delta.columns = [eeg_neutral_delta.columns[0]] + [f'{col}_N_d' for col in eeg_neutral_delta.columns[1:]]\n",
    "eeg_neutral_gamma.columns = [eeg_neutral_gamma.columns[0]] + [f'{col}_N_g' for col in eeg_neutral_gamma.columns[1:]]\n",
    "eeg_neutral_theta.columns = [eeg_neutral_theta.columns[0]] + [f'{col}_N_Q' for col in eeg_neutral_theta.columns[1:]]"
   ],
   "metadata": {
    "collapsed": false
   },
   "id": "41efc5c62451fc34"
  },
  {
   "cell_type": "code",
   "execution_count": null,
   "outputs": [],
   "source": [
    "eeg_neutral_beta_dropped = eeg_neutral_beta.iloc[:, 1:]\n",
    "eeg_neutral_delta_dropped = eeg_neutral_delta.iloc[:, 1:]\n",
    "eeg_neutral_gamma_dropped = eeg_neutral_gamma.iloc[:, 1:]\n",
    "eeg_neutral_theta_dropped = eeg_neutral_theta.iloc[:, 1:]\n",
    "\n",
    "eeg_neutral_all_bands = pd.concat([eeg_neutral_alpha, eeg_neutral_beta_dropped, eeg_neutral_delta_dropped, eeg_neutral_gamma_dropped, eeg_neutral_theta_dropped], axis=1)"
   ],
   "metadata": {
    "collapsed": false
   },
   "id": "1ca1b2ed98668d"
  },
  {
   "cell_type": "code",
   "execution_count": null,
   "outputs": [],
   "source": [
    "eeg_neutral_all_bands.rename(columns={eeg_neutral_all_bands.columns[0]: 'ppid'}, inplace=True)\n",
    "\n",
    "eeg_neutral_all_bands = eeg_neutral_all_bands[~eeg_neutral_all_bands['ppid'].astype(str).str.startswith('4')]"
   ],
   "metadata": {
    "collapsed": false
   },
   "id": "9531123022d9a8af"
  },
  {
   "cell_type": "code",
   "execution_count": null,
   "outputs": [],
   "source": [
    "eeg_neutral_all_bands.to_csv('neutral_all_bands.csv', index=False)"
   ],
   "metadata": {
    "collapsed": false
   },
   "id": "556789f0bb7b4e00"
  },
  {
   "cell_type": "markdown",
   "source": [
    "### EEG - neutral - grouped_by2"
   ],
   "metadata": {
    "collapsed": false
   },
   "id": "8aefb94b602c4891"
  },
  {
   "cell_type": "code",
   "execution_count": null,
   "outputs": [],
   "source": [
    "eeg_neutral_path = \"./aida_data/eeg/neutral/neutral_/eeg_avg_neutral.xlsx\"\n",
    "eeg_neutral = pd.read_excel(eeg_neutral_path)\n",
    "eeg_neutral.to_csv('eeg_neutral_all_bands_grouped_by2.csv', index=False)"
   ],
   "metadata": {
    "collapsed": false
   },
   "id": "39dae9642cad890f"
  },
  {
   "cell_type": "markdown",
   "source": [
    "### EEG - sad"
   ],
   "metadata": {
    "collapsed": false
   },
   "id": "4b2fcc1d4256d20"
  },
  {
   "cell_type": "code",
   "execution_count": null,
   "outputs": [],
   "source": [
    "eeg_sad_alpha_path = \"./aida_data/eeg/sad/sad_/sad_alpha.xlsx\"\n",
    "eeg_sad_beta_path = \"./aida_data/eeg/sad/sad_/sad_beta.xlsx\"\n",
    "eeg_sad_delta_path = \"./aida_data/eeg/sad/sad_/sad_delta.xlsx\"\n",
    "eeg_sad_gamma_path = \"./aida_data/eeg/sad/sad_/sad_gamma.xlsx\"\n",
    "eeg_sad_theta_path = \"./aida_data/eeg/sad/sad_/sad_theta.xlsx\""
   ],
   "metadata": {
    "collapsed": false
   },
   "id": "20489b5061b8e1f0"
  },
  {
   "cell_type": "code",
   "execution_count": null,
   "outputs": [],
   "source": [
    "eeg_sad_alpha = pd.read_excel(eeg_sad_alpha_path)\n",
    "eeg_sad_beta = pd.read_excel(eeg_sad_beta_path)\n",
    "eeg_sad_delta = pd.read_excel(eeg_sad_delta_path)\n",
    "eeg_sad_gamma = pd.read_excel(eeg_sad_gamma_path)\n",
    "eeg_sad_theta = pd.read_excel(eeg_sad_theta_path)"
   ],
   "metadata": {
    "collapsed": false
   },
   "id": "692ae60a4c60e7e5"
  },
  {
   "cell_type": "code",
   "execution_count": null,
   "outputs": [],
   "source": [
    "eeg_sad_alpha.columns = [eeg_sad_alpha.columns[0]] + [f'{col}_S_a' for col in eeg_sad_alpha.columns[1:]]\n",
    "eeg_sad_beta.columns = [eeg_sad_beta.columns[0]] + [f'{col}_S_b' for col in eeg_sad_beta.columns[1:]]\n",
    "eeg_sad_delta.columns = [eeg_sad_delta.columns[0]] + [f'{col}_S_d' for col in eeg_sad_delta.columns[1:]]\n",
    "eeg_sad_gamma.columns = [eeg_sad_gamma.columns[0]] + [f'{col}_S_g' for col in eeg_sad_gamma.columns[1:]]\n",
    "eeg_sad_theta.columns = [eeg_sad_theta.columns[0]] + [f'{col}_S_Q' for col in eeg_sad_theta.columns[1:]]"
   ],
   "metadata": {
    "collapsed": false
   },
   "id": "c8b700d9ffc6a876"
  },
  {
   "cell_type": "code",
   "execution_count": null,
   "outputs": [],
   "source": [
    "eeg_sad_beta_dropped = eeg_sad_beta.iloc[:, 1:]\n",
    "eeg_sad_delta_dropped = eeg_sad_delta.iloc[:, 1:]\n",
    "eeg_sad_gamma_dropped = eeg_sad_gamma.iloc[:, 1:]\n",
    "eeg_sad_theta_dropped = eeg_sad_theta.iloc[:, 1:]\n",
    "\n",
    "eeg_sad_all_bands = pd.concat([eeg_sad_alpha, eeg_sad_beta_dropped, eeg_sad_delta_dropped, eeg_sad_gamma_dropped, eeg_sad_theta_dropped], axis=1)"
   ],
   "metadata": {
    "collapsed": false
   },
   "id": "b2ef548fc4e93335"
  },
  {
   "cell_type": "code",
   "execution_count": null,
   "outputs": [],
   "source": [
    "eeg_sad_all_bands.rename(columns={eeg_sad_all_bands.columns[0]: 'ppid'}, inplace=True)\n",
    "\n",
    "eeg_sad_all_bands = eeg_sad_all_bands[~eeg_sad_all_bands['ppid'].astype(str).str.startswith('4')]"
   ],
   "metadata": {
    "collapsed": false
   },
   "id": "fe1076df7c55ac74"
  },
  {
   "cell_type": "code",
   "execution_count": null,
   "outputs": [],
   "source": [
    "eeg_sad_all_bands.to_csv('sad_all_bands.csv', index=False)"
   ],
   "metadata": {
    "collapsed": false
   },
   "id": "2f2955882940bb60"
  },
  {
   "cell_type": "markdown",
   "source": [
    "### EEG - sad - grouped_by2"
   ],
   "metadata": {
    "collapsed": false
   },
   "id": "90f04fcba613e6e5"
  },
  {
   "cell_type": "code",
   "execution_count": null,
   "outputs": [],
   "source": [
    "eeg_sad_path = \"./aida_data/eeg/sad/sad_/eeg_avg_sad.xlsx\"\n",
    "eeg_sad = pd.read_excel(eeg_sad_path)\n",
    "eeg_sad.to_csv('eeg_sad_all_bands_grouped_by2.csv', index=False)"
   ],
   "metadata": {
    "collapsed": false
   },
   "id": "5f9f5cc345d0e630"
  },
  {
   "cell_type": "markdown",
   "source": [
    "### Behaviour - fert"
   ],
   "metadata": {
    "collapsed": false
   },
   "id": "aa129f562a995e50"
  },
  {
   "cell_type": "code",
   "execution_count": null,
   "outputs": [],
   "source": [
    "fert_path = \"./aida_data/behavioral/behavioral_/fert.xlsx\"\n",
    "\n",
    "fert = pd.read_excel(fert_path)"
   ],
   "metadata": {
    "collapsed": false
   },
   "id": "aa55cd84de9956b2"
  },
  {
   "cell_type": "code",
   "execution_count": null,
   "outputs": [],
   "source": [
    "fert = fert[fert.iloc[:, 1] == 1].drop(fert.columns[1], axis=1)\n",
    "\n",
    "fert = fert.rename(columns={fert.columns[0]: 'ppid'})\n",
    "\n",
    "new_column_names = ['ppid'] + list(range(1, len(fert.columns)))\n",
    "fert.columns = new_column_names\n",
    "\n",
    "fert = fert[fert['ppid'].astype(str).str.startswith(('1', '3'))]"
   ],
   "metadata": {
    "collapsed": false
   },
   "id": "4fae32d2638716fe"
  },
  {
   "cell_type": "code",
   "execution_count": null,
   "outputs": [],
   "source": [
    "fert.to_csv('fert.csv', index=False)"
   ],
   "metadata": {
    "collapsed": false
   },
   "id": "fd95643e541d190b"
  },
  {
   "cell_type": "markdown",
   "source": [
    "### Behaviour - effort "
   ],
   "metadata": {
    "collapsed": false
   },
   "id": "9647270e31cd7357"
  },
  {
   "cell_type": "code",
   "execution_count": null,
   "outputs": [],
   "source": [
    "effort_path = \"./aida_data/behavioral/behavioral_/effort.xlsx\"\n",
    "\n",
    "effort = pd.read_excel(effort_path)"
   ],
   "metadata": {
    "collapsed": false
   },
   "id": "3fd9dbb3d213b32"
  },
  {
   "cell_type": "code",
   "execution_count": null,
   "outputs": [],
   "source": [
    "effort = effort[effort.iloc[:, 1] == 1].drop(effort.columns[1], axis=1)\n",
    "\n",
    "effort = effort.rename(columns={effort.columns[0]: 'ppid'})\n",
    "\n",
    "new_column_names = ['ppid'] + list(range(1, len(effort.columns)))\n",
    "effort.columns = new_column_names\n",
    "\n",
    "effort = effort[effort['ppid'].astype(str).str.startswith(('1', '3'))]"
   ],
   "metadata": {
    "collapsed": false
   },
   "id": "d393280eb76b6e1d"
  },
  {
   "cell_type": "code",
   "execution_count": null,
   "outputs": [],
   "source": [
    "effort.to_csv('effort.csv', index=False)"
   ],
   "metadata": {
    "collapsed": false
   },
   "id": "dfdb6c8e70c60a45"
  },
  {
   "cell_type": "markdown",
   "source": [
    "\n",
    "\n"
   ],
   "metadata": {
    "collapsed": false
   },
   "id": "d5661a62de7ed8dd"
  },
  {
   "cell_type": "markdown",
   "source": [
    "### upload MRI "
   ],
   "metadata": {
    "collapsed": false
   },
   "id": "6b955ab4653203c1"
  },
  {
   "cell_type": "code",
   "execution_count": null,
   "outputs": [],
   "source": [
    "smri_path = \"./aida_data/smri/roi_gm_WHOLE_T1.csv\"\n",
    "\n",
    "pos_fmri_path = \"./aida_data/fmri/positive/roi_contrast_WHOLE_pat_pos_values.csv\"\n",
    "neg_fmri_path = \"./aida_data/fmri/negative/roi_contrast_WHOLE_pat_neg_values.csv\"\n",
    "\n",
    "#pos_fmri_beta1_path = \"./aida_data/fmri/positive/roi_beta1_WHOLE_pat_pos.csv\"\n",
    "#pos_fmri_beta3_path = \"./aida_data/fmri/positive/roi_beta3_WHOLE_pat_pos.csv\"\n",
    "#neg_fmri_beta1_path = \"./aida_data/fmri/negative/roi_beta1_WHOLE_pat_neg.csv\"\n",
    "#neg_fmri_beta3_path = \"./aida_data/fmri/negative/roi_beta3_WHOLE_pat_neg.csv\""
   ],
   "metadata": {
    "collapsed": false
   },
   "id": "83eb4ce4b1188b1a"
  },
  {
   "cell_type": "code",
   "execution_count": null,
   "outputs": [],
   "source": [
    "smri_df = pd.read_csv(smri_path)\n",
    "\n",
    "pos_fmri_df = pd.read_csv(pos_fmri_path)\n",
    "neg_fmri_df = pd.read_csv(neg_fmri_path)\n",
    "\n",
    "#pos_fmri_df = pd.read_csv(pos_fmri_beta1_path)\n",
    "#neg_fmri_df = pd.read_csv(neg_fmri_beta1_path)\n",
    "\n",
    "#pos_fmri_beta1_df = pd.read_csv(pos_fmri_beta1_path)\n",
    "#pos_fmri_beta3_df = pd.read_csv(pos_fmri_beta3_path)\n",
    "\n",
    "#neg_fmri_beta1_df = pd.read_csv(neg_fmri_beta1_path)\n",
    "#neg_fmri_beta3_df = pd.read_csv(neg_fmri_beta3_path)"
   ],
   "metadata": {
    "collapsed": false
   },
   "id": "f9819e770c71ea31"
  },
  {
   "cell_type": "markdown",
   "source": [
    "### Experiments with beta"
   ],
   "metadata": {
    "collapsed": false
   },
   "id": "cca371dde0cfa37a"
  },
  {
   "cell_type": "code",
   "execution_count": null,
   "outputs": [],
   "source": [
    "pos_fmri_df.columns = [pos_fmri_df.columns[0]] + [col[:-6] for col in pos_fmri_df.columns[1:]]\n",
    "neg_fmri_df.columns = [neg_fmri_df.columns[0]] + [col[:-6] for col in neg_fmri_df.columns[1:]]"
   ],
   "metadata": {
    "collapsed": false
   },
   "id": "bbaebfa89ade8014"
  },
  {
   "cell_type": "markdown",
   "source": [
    "### Reduce the Dimensions of structural MRI data "
   ],
   "metadata": {
    "collapsed": false
   },
   "id": "4cd0ee4fc4539f13"
  },
  {
   "cell_type": "code",
   "execution_count": null,
   "outputs": [],
   "source": [
    "columns_to_keep_smri = ['ppid', '2c', '3c', '4c', '5c', '6c', '9c', '10c', '11c', '12c', '19c', '20c', '25c', '28c',\n",
    "                        '29c', '30c', '31c', '33c', '34c', '35c', '4s',\n",
    "                        '5s', '6s', '7s', '9s', '10s', '11s', '15s', '16s', '17s', '18s', '19s', '20s', '21s']\n",
    "\n",
    "smri_df = smri_df[columns_to_keep_smri]\n",
    "\n",
    "features_smri = ['ppid', 'InsC', 'SFG', 'MFG', 'IFGtri', 'IFGop', 'aSTG', 'pSTG', 'aMTG', 'pMTG', 'aSMG', 'pSMG', 'FMC',\n",
    "                 'PCG', 'aCG', 'pCG', 'PCun', 'FOC',\n",
    "                 'aPHG', 'pPHG', 'L_Tha', 'L_Cau', 'L_Put', 'L_Pal', 'L_Hipp', 'L_Amy', 'L_Acc', 'R_Tha', 'R_Cau',\n",
    "                 'R_Put', 'R_Pal', 'R_Hipp', 'R_Amy', 'R_Acc']\n",
    "\n",
    "smri_df.columns = features_smri"
   ],
   "metadata": {
    "collapsed": false
   },
   "id": "9a0d030af9e7f5e1"
  },
  {
   "cell_type": "markdown",
   "source": [
    "### Reduce the Dimensions of positive fMRI  "
   ],
   "metadata": {
    "collapsed": false
   },
   "id": "27585dd4e4f43801"
  },
  {
   "cell_type": "code",
   "execution_count": null,
   "outputs": [],
   "source": [
    "\"\"\"\n",
    "columns_to_keep_pos_fmri =  ['ppid', '1_pos_cor', '2_pos_cor', '3_pos_cor', '4_pos_cor', '13_pos_cor', '14_pos_cor', '15_pos_cor', '22_pos_cor', '23_pos_cor', \n",
    "                             '24_pos_cor', '25_pos_cor', '29_pos_cor', '32_pos_cor', '36_pos_cor', '37_pos_cor', '38_pos_cor', '41_pos_cor', '47_pos_cor',\n",
    "                             '48_pos_cor', '10_pos_sub', '20_pos_sub']\"\"\"\n",
    "\n",
    "\n",
    "columns_to_keep_pos_fmri =  ['ppid', '1_pos_cor', '2_pos_cor', '3_pos_cor', '4_pos_cor', '5_pos_cor', '6_pos_cor', '9_pos_cor', '10_pos_cor',\n",
    "                             '13_pos_cor', '14_pos_cor', '15_pos_cor', '20_pos_cor', '25_pos_cor', '28_pos_cor', '29_pos_cor', '30_pos_cor', \n",
    "                             '31_pos_cor', '33_pos_cor', '34_pos_cor', '35_pos_cor', '36_pos_cor', '37_pos_cor', '38_pos_cor',\n",
    "                             '4_pos_sub', '9_pos_sub', '10_pos_sub', '15_pos_sub', '19_pos_sub', '20_pos_sub']\n",
    "\n",
    "pos_fmri_df = pos_fmri_df[columns_to_keep_pos_fmri]\n",
    "\n",
    "features_pos_fmri = ['ppid', 'FP_', 'INS_', 'SFG_', 'MFG_', 'IFGtri_', 'IFGop_', 'aSTG_', 'pSTG_', 'MTGto_', 'aITG_',\n",
    "                     'pITG_', 'pSMG_', 'FMC_', 'PCG_', 'aCG_',\n",
    "                     'pCG_', 'PCun_', 'FOC_', 'aPHG_', 'pPHG_', 'LG_', 'aTFC_', 'pTFC_', 'L_Tha_', 'L_Hipp_', 'L_Amy_',\n",
    "                     'R_Tha_', 'R_Hipp_', 'R_Amy_']\n",
    "pos_fmri_df.columns = features_pos_fmri"
   ],
   "metadata": {
    "collapsed": false
   },
   "id": "a90c4727e452c44"
  },
  {
   "cell_type": "markdown",
   "source": [
    "### Reduce the Dimensions of negative fMRI "
   ],
   "metadata": {
    "collapsed": false
   },
   "id": "7b04ad67d3e827d6"
  },
  {
   "cell_type": "code",
   "execution_count": null,
   "outputs": [],
   "source": [
    "\"\"\"\n",
    "columns_to_keep_neg_fmri = ['ppid', '1_neg_cor', '2_neg_cor', '3_neg_cor', '4_neg_cor', '13_neg_cor', '14_neg_cor', '15_neg_cor',  '22_neg_cor', '23_neg_cor',\n",
    "                            '24_neg_cor', '25_neg_cor', '29_neg_cor', '32_neg_cor', '36_neg_cor',  '37_neg_cor', '38_neg_cor', '41_neg_cor', '47_neg_cor',\n",
    "                            '48_neg_cor', '10_neg_sub', '20_neg_sub']\"\"\"\n",
    "\n",
    "columns_to_keep_neg_fmri = ['ppid', '1_neg_cor', '2_neg_cor', '3_neg_cor', '4_neg_cor', '5_neg_cor', '6_neg_cor',\n",
    "                            '9_neg_cor', '10_neg_cor',\n",
    "                            '13_neg_cor', '14_neg_cor', '15_neg_cor', '20_neg_cor', '25_neg_cor', '28_neg_cor',\n",
    "                            '29_neg_cor', '30_neg_cor',\n",
    "                            '31_neg_cor', '33_neg_cor', '34_neg_cor', '35_neg_cor', '36_neg_cor', '37_neg_cor',\n",
    "                            '38_neg_cor',\n",
    "                            '4_neg_sub', '9_neg_sub', '10_neg_sub', '15_neg_sub', '19_neg_sub', '20_neg_sub']\n",
    "\n",
    "neg_fmri_df = neg_fmri_df[columns_to_keep_neg_fmri]\n",
    "\n",
    "neg_fmri_features = ['ppid', 'FP', 'INS', 'SFG', 'MFG', 'IFGtri', 'IFGop', 'aSTG', 'pSTG', 'MTGto', 'aITG', 'pITG',\n",
    "                     'pSMG', 'FMC', 'PCG', 'aCG', 'pCG',\n",
    "                     'PCun', 'FOC', 'aPHG', 'pPHG', 'LG', 'aTFC', 'pTFC', 'L_Tha', 'L_Hipp', 'L_Amy', 'R_Tha', 'R_Hipp',\n",
    "                     'R_Amy']\n",
    "\n",
    "neg_fmri_df.columns = neg_fmri_features"
   ],
   "metadata": {
    "collapsed": false
   },
   "id": "9c57debceec1b3a8"
  },
  {
   "cell_type": "markdown",
   "source": [
    "### upload EEG"
   ],
   "metadata": {
    "collapsed": false
   },
   "id": "3fbb778a3083511"
  },
  {
   "cell_type": "code",
   "execution_count": null,
   "outputs": [],
   "source": [
    "sad_eeg_path = \"./aida_data/eeg/sad/eeg_sad_all_bands_grouped_by2.csv\"\n",
    "neutral_eeg_path = \"./aida_data/eeg/neutral/eeg_neutral_all_bands_grouped_by2.csv\"\n",
    "\n",
    "sad_eeg_df = pd.read_csv(sad_eeg_path)\n",
    "neutral_eeg_df = pd.read_csv(neutral_eeg_path)"
   ],
   "metadata": {
    "collapsed": false
   },
   "id": "fd35d00cd6345a27"
  },
  {
   "cell_type": "markdown",
   "source": [
    "### upload EEG channels"
   ],
   "metadata": {
    "collapsed": false
   },
   "id": "9d4c51fdb45d8713"
  },
  {
   "cell_type": "code",
   "execution_count": null,
   "outputs": [],
   "source": [
    "sad_alpha_path = \"./aida_data/eeg/sad/sad_/sad_alpha.xlsx\"\n",
    "sad_beta_path = \"./aida_data/eeg/sad/sad_/sad_beta.xlsx\"\n",
    "sad_delta_path = \"./aida_data/eeg/sad/sad_/sad_delta.xlsx\"\n",
    "sad_gamma_path = \"./aida_data/eeg/sad/sad_/sad_gamma.xlsx\"\n",
    "sad_theta_path = \"./aida_data/eeg/sad/sad_/sad_theta.xlsx\""
   ],
   "metadata": {
    "collapsed": false
   },
   "id": "830f8a90ed668aef"
  },
  {
   "cell_type": "code",
   "execution_count": null,
   "outputs": [],
   "source": [
    "neutral_alpha_path = \"./aida_data/eeg/neutral/neutral_/neutral_alpha.xlsx\"\n",
    "neutral_beta_path = \"./aida_data/eeg/neutral/neutral_/neutral_beta.xlsx\"\n",
    "neutral_delta_path = \"./aida_data/eeg/neutral/neutral_/neutral_delta.xlsx\"\n",
    "neutral_gamma_path = \"./aida_data/eeg/neutral/neutral_/neutral_gamma.xlsx\"\n",
    "neutral_theta_path = \"./aida_data/eeg/neutral/neutral_/neutral_theta.xlsx\""
   ],
   "metadata": {
    "collapsed": false
   },
   "id": "71c868d118c984ab"
  },
  {
   "cell_type": "code",
   "execution_count": null,
   "outputs": [],
   "source": [
    "sad_alpha_df = pd.read_excel(sad_alpha_path)\n",
    "sad_beta_df = pd.read_excel(sad_beta_path)\n",
    "sad_delta_df = pd.read_excel(sad_delta_path)\n",
    "sad_gamma_df = pd.read_excel(sad_gamma_path)\n",
    "sad_theta_df = pd.read_excel(sad_theta_path)"
   ],
   "metadata": {
    "collapsed": false
   },
   "id": "7cf48b78b42762b0"
  },
  {
   "cell_type": "code",
   "execution_count": null,
   "outputs": [],
   "source": [
    "sad_alpha_df.columns = [\"ppid\"] + [f\"{col}_alpha\" for col in sad_alpha_df.columns[1:]]\n",
    "sad_beta_df.columns = [\"ppid\"] + [f\"{col}_beta\" for col in sad_beta_df.columns[1:]]\n",
    "sad_delta_df.columns = [\"ppid\"] + [f\"{col}_delta\" for col in sad_delta_df.columns[1:]]\n",
    "sad_gamma_df.columns = [\"ppid\"] + [f\"{col}_gamma\" for col in sad_gamma_df.columns[1:]]\n",
    "sad_theta_df.columns = [\"ppid\"] + [f\"{col}_theta\" for col in sad_theta_df.columns[1:]]"
   ],
   "metadata": {
    "collapsed": false
   },
   "id": "2ddeceb905de1e9d"
  },
  {
   "cell_type": "code",
   "execution_count": null,
   "outputs": [],
   "source": [
    "\"\"\"\n",
    "sad_eeg_df = pd.concat([sad_alpha_df] + [df.drop(df.columns[0], axis=1) for df in [sad_beta_df, sad_delta_df, sad_gamma_df, sad_theta_df]], axis=1)\n",
    "sad_eeg_df.columns = ['ppid'] + list(sad_eeg_df.columns[1:])\n",
    "\"\"\""
   ],
   "metadata": {
    "collapsed": false
   },
   "id": "4b610a833b36e570"
  },
  {
   "cell_type": "markdown",
   "source": [
    "### selecting bands from eeg"
   ],
   "metadata": {
    "collapsed": false
   },
   "id": "e47c90abcd46e2b9"
  },
  {
   "cell_type": "code",
   "execution_count": null,
   "outputs": [],
   "source": [
    "sad_eeg_df = sad_eeg_df[[col for col in sad_eeg_df.columns if col == 'ppid' or '_alpha' in col]]\n",
    "sad_eeg_df = sad_eeg_df[[col for col in sad_eeg_df.columns if col == 'ppid' or '_alpha' in col or '_beta' in col]]\n",
    "\n",
    "neutral_eeg_df = neutral_eeg_df[[col for col in neutral_eeg_df.columns if col == 'ppid' or '_alpha' in col or '_beta' in col]]\n",
    "neutral_eeg_df = neutral_eeg_df[[col for col in neutral_eeg_df.columns if col == 'ppid' or '_alpha' in col or '_beta' in col or '_theta' in col]]"
   ],
   "metadata": {
    "collapsed": false
   },
   "id": "705902849032dc17"
  },
  {
   "cell_type": "markdown",
   "source": [
    "### preprocess behavioral"
   ],
   "metadata": {
    "collapsed": false
   },
   "id": "8a9484efeb793d5"
  },
  {
   "cell_type": "code",
   "execution_count": null,
   "outputs": [],
   "source": [
    "fert_path = \"./aida_data/behavioral/fert.csv\"\n",
    "effort_path = \"./aida_data/behavioral/effort.csv\"\n",
    "\n",
    "fert_df = pd.read_csv(fert_path)\n",
    "effort_df = pd.read_csv(effort_path)"
   ],
   "metadata": {
    "collapsed": false
   },
   "id": "99d304569f78efe6"
  },
  {
   "cell_type": "code",
   "execution_count": null,
   "outputs": [],
   "source": [
    "#fert_df.columns = [fert_df.columns[0]] + [\"fert_\" + col for col in fert_df.columns[1:]]\n",
    "effort_df.columns = [effort_df.columns[0]] + [\"effort_\" + col for col in effort_df.columns[1:]]"
   ],
   "metadata": {
    "collapsed": false
   },
   "id": "cfe31a59b508f717"
  },
  {
   "cell_type": "code",
   "execution_count": null,
   "outputs": [],
   "source": [
    "fert = ['Anger_', 'Fearful', 'Happy', 'Sad', 'Neutral', 'Disgusted']\n",
    "\n",
    "fert_df.columns = [fert_df.columns[0]] + fert"
   ],
   "metadata": {
    "collapsed": false
   },
   "id": "5aaee8af15f6bef6"
  },
  {
   "cell_type": "markdown",
   "source": [
    "### preprocess questionnaire and clinical data"
   ],
   "metadata": {
    "collapsed": false
   },
   "id": "8784d9e5738aa525"
  },
  {
   "cell_type": "code",
   "execution_count": null,
   "outputs": [],
   "source": [
    "questionnaire_path = \"./aida_data/questionnaire/questionnaire.xlsx\"\n",
    "clinical_path = \"./aida_data/questionnaire/clinical_blood.xlsx\"\n",
    "demography_path = \"./aida_data/questionnaire/demographic_confounding.xlsx\""
   ],
   "metadata": {
    "collapsed": false
   },
   "id": "3fba22b3dbf74722"
  },
  {
   "cell_type": "code",
   "execution_count": null,
   "outputs": [],
   "source": [
    "questionnaire_df = pd.read_excel(questionnaire_path)\n",
    "clinical_df = pd.read_excel(clinical_path)\n",
    "demography_df = pd.read_excel(demography_path)"
   ],
   "metadata": {
    "collapsed": false
   },
   "id": "2817775b8db491d0"
  },
  {
   "cell_type": "markdown",
   "source": [
    "### RELAPSE STUDIES - remove CONTROLS "
   ],
   "metadata": {
    "collapsed": false
   },
   "id": "68f5b8817a251692"
  },
  {
   "cell_type": "code",
   "execution_count": null,
   "outputs": [],
   "source": [
    "questionnaire_df = questionnaire_df[(questionnaire_df['isControl'] == 0)&(questionnaire_df['ppid'].astype(str).str.startswith(('1', '3')))].drop(columns=['isControl'])\n",
    "clinical_df = clinical_df[(clinical_df['isControl'] == 0)&(clinical_df['ppid'].astype(str).str.startswith(('1', '3')))].drop(columns=['isControl'])\n",
    "demography_df = demography_df[(demography_df['isControl'] == 0)&(demography_df['ppid'].astype(str).str.startswith(('1', '3')))].drop(columns=['isControl'])"
   ],
   "metadata": {
    "collapsed": false
   },
   "id": "218b74de9dfec83"
  },
  {
   "cell_type": "markdown",
   "source": [
    "### modify questionnaire data - Quentin's suggestions"
   ],
   "metadata": {
    "collapsed": false
   },
   "id": "9fe71fffdc3fbcb9"
  },
  {
   "cell_type": "code",
   "execution_count": null,
   "outputs": [],
   "source": [
    "questionnaire_df = questionnaire_df.drop(columns=[\"Baseline_ERQ_UERQ09_\", \n",
    "                                                  \"IDS_GAF_Baseline_hamd_total\", \n",
    "                                                  \"IDS_GAF_Baseline_idsc_total\",\n",
    "                                                  \"baselinecomplete_SeverelyImpairedActivity\",\n",
    "                                                  \"baselinecomplete_SeverelyImpairedSocialFunc\",\n",
    "                                                  \"baselinecomplete_SeverelyImpairedWorkFunc\"\n",
    "                                                  ])"
   ],
   "metadata": {
    "collapsed": false
   },
   "id": "8e86d1f641fce66e"
  },
  {
   "cell_type": "markdown",
   "source": [
    "### Questionnaire reduce dimensions - Midway"
   ],
   "metadata": {
    "collapsed": false
   },
   "id": "ac05143c9540aaac"
  },
  {
   "cell_type": "code",
   "execution_count": null,
   "outputs": [],
   "source": [
    "questionnaire_df = questionnaire_df.drop(columns=[\"Baseline_ERQ_UERQ09_\", \n",
    "                                                  \"IDS_GAF_Baseline_hamd_total\", \n",
    "                                                  \"IDS_GAF_Baseline_idsc_total\",\n",
    "                                                  \"baselinecomplete_SeverelyImpairedActivity\",\n",
    "                                                  \"baselinecomplete_SeverelyImpairedSocialFunc\",\n",
    "                                                  \"baselinecomplete_SeverelyImpairedWorkFunc\",\n",
    "                                                  \"Main1_scl_sumscore\",\n",
    "                                                  \"Main1_scl_otheritemssum\",\n",
    "                                                  \"Baseline_cerq_Akzep\",\n",
    "                                                  \"Baseline_cerq_AnBes\",\n",
    "                                                  \"Baseline_cerq_Detach\",\n",
    "                                                  \"Baseline_cerq_Katast\",\n",
    "                                                  \"Baseline_cerq_Neube\",\n",
    "                                                  \"Baseline_cerq_Plan\",\n",
    "                                                  \"Baseline_cerq_PoRef\",\n",
    "                                                  \"Baseline_cerq_Relat\",\n",
    "                                                  \"Baseline_cerq_Rumi\",\n",
    "                                                  \"Baseline_cerq_SeBes\",\n",
    "                                                  \"Baseline_csq_total\",\n",
    "                                                  \"Baseline_erq_reappraisal\",\n",
    "                                                  \"Baseline_es_total\",\n",
    "                                                  \"Baseline_ctq_emotionalAbuse\",\n",
    "                                                  \"Baseline_ctq_emotionalNeglect\",\n",
    "                                                  \"Baseline_ctq_physicalAbuse\",\n",
    "                                                  \"Baseline_ctq_physicalNeglect\",\n",
    "                                                  \"Baseline_ctq_sexualAbuse\",\n",
    "                                                  \"Baseline_ctq_trivilization\",\n",
    "                                                  \"IDS_GAF_Main1_idsc_total\",\n",
    "                                                  \"Main1_panass_panassneg\",\n",
    "                                                  \"Main1_panass_panasspos\",\n",
    "                                                  \"Baseline_panast_panastneg\",\n",
    "                                                  \"Baseline_panast_panastpos\",\n",
    "                                                  \"Main1_sek_total\",\n",
    "                                                  \"IDS_GAF_Main1_GAF\",\n",
    "                                                  \"numberDiagSkidAll\"\n",
    "                                                  ])"
   ],
   "metadata": {
    "collapsed": false
   },
   "id": "d4e8b031f1635cbd"
  },
  {
   "cell_type": "code",
   "execution_count": null,
   "outputs": [],
   "source": [
    "# RELAPSE \n",
    "questionnaire_features = ['ppid','HAMD', 'GAD', 'TEPS', 'Brooding', 'Reflection', 'Aggression', 'Anger', 'Depression', 'Paranoia', 'Phobia',\n",
    "                          'Psychoticism','Somatization', 'Unspecific', 'Compulsion', 'Acceptance', 'Attention', 'Perception', 'Clarity', 'Confront', 'Regulation',\n",
    "                          'Resilience', 'Understand', 'ACE', 'BRS', 'OSLO', 'SWLS', 'Optimism', 'Pessimism', 'Self_Efficacy', 'STAI-T', 'BSCS', 'Agreeable',\n",
    "                          'Conscientious', 'Extroversion', 'Neuroticism', 'Openness', 'MWT-B', 'Digit_Span_Back', 'TMT-A', 'TMT-B']\n",
    "\n",
    "questionnaire_df.columns = questionnaire_features"
   ],
   "metadata": {
    "collapsed": false
   },
   "id": "403f68860cc1990f"
  },
  {
   "cell_type": "code",
   "execution_count": null,
   "outputs": [],
   "source": [
    "# DISEASE (has 'isControl')\n",
    "\n",
    "questionnaire_df = questionnaire_df.drop(columns=['isControl'])\n",
    "\n",
    "questionnaire_features = ['ppid', 'HAMD', 'GAD', 'TEPS', 'Brooding', 'Reflection', 'Aggression', 'Anger', 'Depression', 'Paranoia', 'Phobia',\n",
    "                          'Psychoticism','Somatization', 'Unspecific', 'Compulsion', 'Acceptance', 'Attention', 'Perception', 'Clarity', 'Confront', 'Regulation',\n",
    "                          'Resilience', 'Understand', 'ACE', 'BRS', 'OSLO', 'SWLS', 'Optimism', 'Pessimism', 'Self_Efficacy', 'STAI-T', 'BSCS', 'Agreeable',\n",
    "                          'Conscientious', 'Extroversion', 'Neuroticism', 'Openness', 'MWT-B', 'Digit_Span_Back', 'TMT-A', 'TMT-B']\n",
    "\n",
    "questionnaire_df.columns = questionnaire_features"
   ],
   "metadata": {
    "collapsed": false
   },
   "id": "dc01f37853f539d5"
  },
  {
   "cell_type": "markdown",
   "source": [
    "### RELAPSE STUDIES - do not use these in any study at all "
   ],
   "metadata": {
    "collapsed": false
   },
   "id": "15fbf2e31ef10cb2"
  },
  {
   "cell_type": "code",
   "execution_count": null,
   "outputs": [],
   "source": [
    "clinical_df = clinical_df.drop(columns=[\n",
    "    'overviewSheet_CRP_Main1',\n",
    "    'overviewSheet_Hb_Main1',\n",
    "    'overviewSheet_Leuko_Main1',\n",
    "    'overviewSheet_MCV_Main1',\n",
    "    'overviewSheet_TSH_Main1',\n",
    "    'cortisolData_Average'\n",
    "])\n",
    "\n",
    "clinical_df = clinical_df.drop(columns=[\n",
    "    'medicationClass',\n",
    "    'MedicationList_medicationDosage',\n",
    "    'medicationLoad',\n",
    "    'highestDosage',\n",
    "    'severityLastEpisode',\n",
    "])"
   ],
   "metadata": {
    "collapsed": false
   },
   "id": "318ff68f896183c5"
  },
  {
   "cell_type": "markdown",
   "source": [
    "### Experimenting with blood samples"
   ],
   "metadata": {
    "collapsed": false
   },
   "id": "fb4c129647fb0a11"
  },
  {
   "cell_type": "code",
   "execution_count": null,
   "outputs": [],
   "source": [
    "clinical_df = clinical_df[[\n",
    "    'ppid',\n",
    "    'overviewSheet_CRP_Main1',\n",
    "    'overviewSheet_Hb_Main1',\n",
    "    'overviewSheet_Leuko_Main1',\n",
    "    'overviewSheet_MCV_Main1',\n",
    "    'overviewSheet_TSH_Main1',\n",
    "    'cortisolData_Average'\n",
    "]]"
   ],
   "metadata": {
    "collapsed": false
   },
   "id": "ccdcb681e0bfad2d"
  },
  {
   "cell_type": "markdown",
   "source": [
    "### CONTROL STUDIES - adjust clinical data  "
   ],
   "metadata": {
    "collapsed": false
   },
   "id": "eff6768f8be1003b"
  },
  {
   "cell_type": "code",
   "execution_count": null,
   "outputs": [],
   "source": [
    "clinical_df = clinical_df.drop(columns=[\n",
    "    'medicationClass',\n",
    "    'MedicationList_medicationDosage',\n",
    "    'medicationLoad',\n",
    "    'highestDosage',\n",
    "    \n",
    "    'lengthADMIntake',\n",
    "    'ageOnset',\n",
    "    'monthDepressed',\n",
    "    'monthDepressedLastFiveYears',\n",
    "    'timeInRemission',\n",
    "    'timeSinceIllnessOnset',\n",
    "    'nEpisodes',\n",
    "    'severityLastEpisode'\n",
    "])"
   ],
   "metadata": {
    "collapsed": false
   },
   "id": "bc513d7304a3878a"
  },
  {
   "cell_type": "markdown",
   "source": [
    "### CONTROL STUDIES - remove duplicate columns "
   ],
   "metadata": {
    "collapsed": false
   },
   "id": "ebaf5f9292a3d27e"
  },
  {
   "cell_type": "code",
   "execution_count": null,
   "outputs": [],
   "source": [
    "clinical_df = clinical_df.drop(columns=['isControl'])\n",
    "questionnaire_df = questionnaire_df.drop(columns=['isControl'])"
   ],
   "metadata": {
    "collapsed": false
   },
   "id": "6b84708b067f04cf"
  },
  {
   "cell_type": "markdown",
   "source": [
    "### ALTERNATIVE SUBGROUPS!"
   ],
   "metadata": {
    "collapsed": false
   },
   "id": "c46cd53df29ea576"
  },
  {
   "cell_type": "code",
   "execution_count": null,
   "outputs": [],
   "source": [
    "'baselinecomplete_MWT_B_TotalScore'\n",
    "'baselinecomplete_DigitspanScore'\n",
    "'baselinecomplete_TMT_A_Time_sec_'\n",
    "'baselinecomplete_TMT_B_time_sec_'"
   ],
   "metadata": {
    "collapsed": false
   },
   "id": "58385ac2e8df2ea3"
  },
  {
   "cell_type": "markdown",
   "source": [
    "# mwt_b "
   ],
   "metadata": {
    "collapsed": false
   },
   "id": "1e4592f8e0519051"
  },
  {
   "cell_type": "code",
   "execution_count": null,
   "outputs": [],
   "source": [
    "mwt_b_df = questionnaire_df[['ppid', 'baselinecomplete_MWT_B_TotalScore']]\n",
    "mwt_b_df = mwt_b_df[mwt_b_df['ppid'].isin(shared_ppid_list)]\n",
    "distribution_stats = mwt_b_df['baselinecomplete_MWT_B_TotalScore'].describe()\n",
    "plt.hist(mwt_b_df['baselinecomplete_MWT_B_TotalScore'], bins='auto', edgecolor='black')\n",
    "plt.title('Distribution of baselinecomplete_MWT_B_TotalScore')\n",
    "plt.show()"
   ],
   "metadata": {
    "collapsed": false
   },
   "id": "1b92f2bd6b407b8e"
  },
  {
   "cell_type": "code",
   "execution_count": null,
   "outputs": [],
   "source": [
    "distribution_stats\n",
    "median_value = mwt_b_df['baselinecomplete_MWT_B_TotalScore'].median()"
   ],
   "metadata": {
    "collapsed": false
   },
   "id": "42d1d7c08982a69c"
  },
  {
   "cell_type": "code",
   "execution_count": null,
   "outputs": [],
   "source": [
    "mwt_b_df['baselinecomplete_MWT_B_TotalScore'] = mwt_b_df['baselinecomplete_MWT_B_TotalScore'].apply(\n",
    "    lambda x: 0 if x < median_value else 1)\n",
    "\n",
    "counts = mwt_b_df['baselinecomplete_MWT_B_TotalScore'].value_counts()"
   ],
   "metadata": {
    "collapsed": false
   },
   "id": "a2d4823ce32e95e2"
  },
  {
   "cell_type": "code",
   "execution_count": null,
   "outputs": [],
   "source": [
    "zero_count = counts.get(0, 0)  # 20\n",
    "one_count = counts.get(1, 0)  # 25"
   ],
   "metadata": {
    "collapsed": false
   },
   "id": "39e8e4ce8ee7ed5b"
  },
  {
   "cell_type": "markdown",
   "source": [
    "# digit_span_score"
   ],
   "metadata": {
    "collapsed": false
   },
   "id": "ba462fe38eb7af6"
  },
  {
   "cell_type": "code",
   "execution_count": null,
   "outputs": [],
   "source": [
    "digit_span_score_df = questionnaire_df[['ppid', 'baselinecomplete_DigitspanScore']]\n",
    "digit_span_score_df = digit_span_score_df[digit_span_score_df['ppid'].isin(shared_ppid_list)]"
   ],
   "metadata": {
    "collapsed": false
   },
   "id": "896efcd3aa79573e"
  },
  {
   "cell_type": "code",
   "execution_count": null,
   "outputs": [],
   "source": [
    "distribution_stats = digit_span_score_df['baselinecomplete_DigitspanScore'].describe()\n",
    "plt.hist(digit_span_score_df['baselinecomplete_DigitspanScore'], bins='auto', edgecolor='black')\n",
    "plt.title('Distribution of baselinecomplete_DigitspanScore')\n",
    "plt.show()\n",
    "\n",
    "distribution_stats"
   ],
   "metadata": {
    "collapsed": false
   },
   "id": "d76e628b14ea0776"
  },
  {
   "cell_type": "code",
   "execution_count": null,
   "outputs": [],
   "source": [
    "median_value = digit_span_score_df['baselinecomplete_DigitspanScore'].median()\n",
    "\n",
    "digit_span_score_df['baselinecomplete_DigitspanScore'] = digit_span_score_df['baselinecomplete_DigitspanScore'].apply(\n",
    "    lambda x: 0 if x < median_value else 1)"
   ],
   "metadata": {
    "collapsed": false
   },
   "id": "4322565095271406"
  },
  {
   "cell_type": "code",
   "execution_count": null,
   "outputs": [],
   "source": [
    "counts = digit_span_score_df['baselinecomplete_DigitspanScore'].value_counts()\n",
    "zero_count = counts.get(0, 0)  # 19\n",
    "one_count = counts.get(1, 0)  # 26"
   ],
   "metadata": {
    "collapsed": false
   },
   "id": "afa6d67c736f9853"
  },
  {
   "cell_type": "markdown",
   "source": [
    "# tmt_A "
   ],
   "metadata": {
    "collapsed": false
   },
   "id": "f00ca87ccbc82ae7"
  },
  {
   "cell_type": "code",
   "execution_count": null,
   "outputs": [],
   "source": [
    "tmt_A_df = questionnaire_df[['ppid', 'baselinecomplete_TMT_A_Time_sec_']]\n",
    "tmt_A_df = tmt_A_df[tmt_A_df['ppid'].isin(shared_ppid_list)]"
   ],
   "metadata": {
    "collapsed": false
   },
   "id": "5a37428cf9f22261"
  },
  {
   "cell_type": "code",
   "execution_count": null,
   "outputs": [],
   "source": [
    "distribution_stats = tmt_A_df['baselinecomplete_TMT_A_Time_sec_'].describe()\n",
    "plt.hist(tmt_A_df['baselinecomplete_TMT_A_Time_sec_'], bins='auto', edgecolor='black')\n",
    "plt.title('Distribution of baselinecomplete_TMT_A_Time_sec_')\n",
    "plt.show()\n",
    "\n",
    "distribution_stats"
   ],
   "metadata": {
    "collapsed": false
   },
   "id": "932b2d36d33b18fa"
  },
  {
   "cell_type": "code",
   "execution_count": null,
   "outputs": [],
   "source": [
    "median_value = tmt_A_df['baselinecomplete_TMT_A_Time_sec_'].median()\n",
    "\n",
    "tmt_A_df['baselinecomplete_TMT_A_Time_sec_'] = tmt_A_df['baselinecomplete_TMT_A_Time_sec_'].apply(lambda x: 0 if x < median_value else 1)"
   ],
   "metadata": {
    "collapsed": false
   },
   "id": "63be6150b21efaec"
  },
  {
   "cell_type": "code",
   "execution_count": null,
   "outputs": [],
   "source": [
    "counts = tmt_A_df['baselinecomplete_TMT_A_Time_sec_'].value_counts()\n",
    "zero_count = counts.get(0, 0)  # 22\n",
    "one_count = counts.get(1, 0)  # 23"
   ],
   "metadata": {
    "collapsed": false
   },
   "id": "9417c11fb60d8455"
  },
  {
   "cell_type": "markdown",
   "source": [
    "# tmt_B "
   ],
   "metadata": {
    "collapsed": false
   },
   "id": "b36882c283ce0f23"
  },
  {
   "cell_type": "code",
   "execution_count": null,
   "outputs": [],
   "source": [
    "tmt_B_df = questionnaire_df[['ppid', 'baselinecomplete_TMT_B_time_sec_']]\n",
    "tmt_B_df = tmt_B_df[tmt_B_df['ppid'].isin(shared_ppid_list)]"
   ],
   "metadata": {
    "collapsed": false
   },
   "id": "3b731447b5207f9c"
  },
  {
   "cell_type": "code",
   "execution_count": null,
   "outputs": [],
   "source": [
    "distribution_stats = tmt_B_df['baselinecomplete_TMT_B_time_sec_'].describe()\n",
    "plt.hist(tmt_B_df['baselinecomplete_TMT_B_time_sec_'], bins='auto', edgecolor='black')\n",
    "plt.title('Distribution of baselinecomplete_TMT_B_time_sec_')\n",
    "plt.show()\n",
    "\n",
    "distribution_stats"
   ],
   "metadata": {
    "collapsed": false
   },
   "id": "b2872395666881eb"
  },
  {
   "cell_type": "code",
   "execution_count": null,
   "outputs": [],
   "source": [
    "median_value = tmt_B_df['baselinecomplete_TMT_B_time_sec_'].median()\n",
    "\n",
    "tmt_B_df['baselinecomplete_TMT_B_time_sec_'] = tmt_B_df['baselinecomplete_TMT_B_time_sec_'].apply(lambda x: 0 if x < median_value else 1)"
   ],
   "metadata": {
    "collapsed": false
   },
   "id": "cd3e9025856b5099"
  },
  {
   "cell_type": "code",
   "execution_count": null,
   "outputs": [],
   "source": [
    "counts = tmt_B_df['baselinecomplete_TMT_B_time_sec_'].value_counts()\n",
    "zero_count = counts.get(0, 0)  # 22\n",
    "one_count = counts.get(1, 0)  # 23"
   ],
   "metadata": {
    "collapsed": false
   },
   "id": "61166498c52a4e65"
  },
  {
   "cell_type": "markdown",
   "source": [],
   "metadata": {
    "collapsed": false
   },
   "id": "c584bb1162373903"
  },
  {
   "cell_type": "markdown",
   "source": [
    "### identify common patients"
   ],
   "metadata": {
    "collapsed": false
   },
   "id": "8abb9fc6804a4a92"
  },
  {
   "cell_type": "markdown",
   "source": [
    "smri_df, pos_fmri_df, neg_fmri_df, neutral_eeg_df, fert_df, effort_df, questionnaire_df, clinical_df, demography_df"
   ],
   "metadata": {
    "collapsed": false
   },
   "id": "a20b1445daef6f76"
  },
  {
   "cell_type": "code",
   "execution_count": null,
   "outputs": [],
   "source": [
    "ppid_sets = [set(df['ppid']) for df in\n",
    "             [smri_df, pos_fmri_df, neg_fmri_df, neutral_eeg_df, fert_df, effort_df, questionnaire_df, clinical_df,\n",
    "              demography_df]]\n",
    "shared_ppid = set.intersection(*ppid_sets)"
   ],
   "metadata": {
    "collapsed": false
   },
   "id": "9cf849e00c73e94a"
  },
  {
   "cell_type": "code",
   "execution_count": null,
   "outputs": [],
   "source": [
    "num_shared_ppid = len(shared_ppid)  # 45\n",
    "shared_ppid_list = sorted(shared_ppid)"
   ],
   "metadata": {
    "collapsed": false
   },
   "id": "c27232bcf14b6e69"
  },
  {
   "cell_type": "markdown",
   "source": [
    "smri_df, pos_fmri_df, fert_df, questionnaire_df, demography_df"
   ],
   "metadata": {
    "collapsed": false
   },
   "id": "d49775f96044e7a4"
  },
  {
   "cell_type": "code",
   "execution_count": null,
   "outputs": [],
   "source": [
    "ppid_sets = [set(df['ppid']) for df in [smri_df, pos_fmri_df, fert_df, questionnaire_df, demography_df]]\n",
    "shared_ppid = set.intersection(*ppid_sets)"
   ],
   "metadata": {
    "collapsed": false
   },
   "id": "194ca18e49eaf590"
  },
  {
   "cell_type": "code",
   "execution_count": null,
   "outputs": [],
   "source": [
    "num_shared_ppid = len(shared_ppid)  # 83\n",
    "shared_ppid_list = sorted(shared_ppid)"
   ],
   "metadata": {
    "collapsed": false
   },
   "id": "e62a23e46c4913ba"
  },
  {
   "cell_type": "markdown",
   "source": [
    "### RELAPSE STUDIES - identify RELAPSE information for the chosen \"ppid\" "
   ],
   "metadata": {
    "collapsed": false
   },
   "id": "27a3780a1f86710"
  },
  {
   "cell_type": "code",
   "execution_count": null,
   "outputs": [],
   "source": [
    "filtered_demography_df = demography_df[demography_df['ppid'].isin(shared_ppid_list)]\n",
    "\n",
    "# \"relapse\" values for the \"ppid\" that will be used stored in a list, same order as the \"ppid\"\n",
    "relapse_values = filtered_demography_df['relapse'].tolist()\n",
    "\n",
    "num_ones = relapse_values.count(1)   "
   ],
   "metadata": {
    "collapsed": false
   },
   "id": "fc0a54580cc1e2f9"
  },
  {
   "cell_type": "markdown",
   "source": [
    "### filter data according to \"ppid\" for the chosen modalities"
   ],
   "metadata": {
    "collapsed": false
   },
   "id": "5acc61f3575f6658"
  },
  {
   "cell_type": "code",
   "execution_count": null,
   "outputs": [],
   "source": [
    "smri_df = smri_df[smri_df['ppid'].isin(shared_ppid_list)]\n",
    "pos_fmri_df = pos_fmri_df[pos_fmri_df['ppid'].isin(shared_ppid_list)]\n",
    "neg_fmri_df = neg_fmri_df[neg_fmri_df['ppid'].isin(shared_ppid_list)]\n",
    "#pos_fmri_beta1_df = pos_fmri_beta1_df[pos_fmri_beta1_df['ppid'].isin(shared_ppid_list)]\n",
    "#pos_fmri_beta3_df = pos_fmri_beta3_df[pos_fmri_beta3_df['ppid'].isin(shared_ppid_list)]\n",
    "#neg_fmri_beta1_df = neg_fmri_beta1_df[neg_fmri_beta1_df['ppid'].isin(shared_ppid_list)]\n",
    "#neg_fmri_beta3_df = neg_fmri_beta3_df[neg_fmri_beta3_df['ppid'].isin(shared_ppid_list)]\n",
    "sad_eeg_df = sad_eeg_df[sad_eeg_df['ppid'].isin(shared_ppid_list)]\n",
    "neutral_eeg_df = neutral_eeg_df[neutral_eeg_df['ppid'].isin(shared_ppid_list)]\n",
    "fert_df = fert_df[fert_df['ppid'].isin(shared_ppid_list)]\n",
    "effort_df = effort_df[effort_df['ppid'].isin(shared_ppid_list)]\n",
    "questionnaire_df = questionnaire_df[questionnaire_df['ppid'].isin(shared_ppid_list)]\n",
    "clinical_df = clinical_df[clinical_df['ppid'].isin(shared_ppid_list)]\n",
    "demography_df = demography_df[demography_df['ppid'].isin(shared_ppid_list)]"
   ],
   "metadata": {
    "collapsed": false
   },
   "id": "c5084218503dc052"
  },
  {
   "cell_type": "code",
   "execution_count": null,
   "outputs": [],
   "source": [
    "sad_alpha_df = sad_alpha_df[sad_alpha_df['ppid'].isin(shared_ppid_list)]\n",
    "sad_beta_df = sad_beta_df[sad_beta_df['ppid'].isin(shared_ppid_list)]\n",
    "sad_delta_df = sad_delta_df[sad_delta_df['ppid'].isin(shared_ppid_list)]\n",
    "sad_gamma_df = sad_gamma_df[sad_gamma_df['ppid'].isin(shared_ppid_list)]\n",
    "sad_theta_df = sad_theta_df[sad_theta_df['ppid'].isin(shared_ppid_list)]\n",
    "\n",
    "questionnaire_df = questionnaire_df[questionnaire_df['ppid'].isin(shared_ppid_list)]\n",
    "demography_df = demography_df[demography_df['ppid'].isin(shared_ppid_list)]"
   ],
   "metadata": {
    "collapsed": false
   },
   "id": "d03bd6c6ba34173e"
  },
  {
   "cell_type": "markdown",
   "source": [
    "### STUDIES WITH SAD AND NEUTRAL EEG - add \"sad\" and \"neutral\" to column names"
   ],
   "metadata": {
    "collapsed": false
   },
   "id": "be810098113427fd"
  },
  {
   "cell_type": "code",
   "execution_count": null,
   "outputs": [],
   "source": [
    "sad_eeg_df.columns = [sad_eeg_df.columns[0]] + [f\"{col}_sad\" for col in sad_eeg_df.columns[1:]]\n",
    "neutral_eeg_df.columns = [neutral_eeg_df.columns[0]] + [f\"{col}_neutral\" for col in neutral_eeg_df.columns[1:]]"
   ],
   "metadata": {
    "collapsed": false
   },
   "id": "b826176968fcc164"
  },
  {
   "cell_type": "markdown",
   "source": [
    "### reset index"
   ],
   "metadata": {
    "collapsed": false
   },
   "id": "5c843ea77c4d0e19"
  },
  {
   "cell_type": "code",
   "execution_count": null,
   "outputs": [],
   "source": [
    "smri_df = smri_df.reset_index(drop=True)\n",
    "pos_fmri_df = pos_fmri_df.reset_index(drop=True)\n",
    "neg_fmri_df = neg_fmri_df.reset_index(drop=True)\n",
    "#pos_fmri_beta1_df = pos_fmri_beta1_df.reset_index(drop=True)\n",
    "#pos_fmri_beta3_df = pos_fmri_beta3_df.reset_index(drop=True)\n",
    "#neg_fmri_beta1_df = neg_fmri_beta1_df.reset_index(drop=True)\n",
    "#neg_fmri_beta3_df = neg_fmri_beta3_df.reset_index(drop=True)\n",
    "sad_eeg_df = sad_eeg_df.reset_index(drop=True)\n",
    "neutral_eeg_df = neutral_eeg_df.reset_index(drop=True)\n",
    "fert_df = fert_df.reset_index(drop=True)\n",
    "effort_df = effort_df.reset_index(drop=True)\n",
    "questionnaire_df = questionnaire_df.reset_index(drop=True)\n",
    "clinical_df = clinical_df.reset_index(drop=True)\n",
    "demography_df = demography_df.reset_index(drop=True)"
   ],
   "metadata": {
    "collapsed": false
   },
   "id": "44e21fcdfc128710"
  },
  {
   "cell_type": "code",
   "execution_count": null,
   "outputs": [],
   "source": [
    "sad_alpha_df = sad_alpha_df.reset_index(drop=True)\n",
    "sad_beta_df = sad_beta_df.reset_index(drop=True)\n",
    "sad_delta_df = sad_delta_df.reset_index(drop=True)\n",
    "sad_gamma_df = sad_gamma_df.reset_index(drop=True)\n",
    "sad_theta_df = sad_theta_df.reset_index(drop=True)\n",
    "\n",
    "questionnaire_df = questionnaire_df.reset_index(drop=True)\n",
    "demography_df = demography_df.reset_index(drop=True)"
   ],
   "metadata": {
    "collapsed": false
   },
   "id": "8ef8567e75ce6f87"
  },
  {
   "cell_type": "markdown",
   "source": [
    "### checking for \"nan\" for all modalities"
   ],
   "metadata": {
    "collapsed": false
   },
   "id": "bda13a6c93e75fa"
  },
  {
   "cell_type": "code",
   "execution_count": null,
   "outputs": [],
   "source": [
    "dataframes = {#'smri_df': smri_df,\n",
    "              #'pos_fmri_df': pos_fmri_df,\n",
    "              #'neg_fmri_df': neg_fmri_df,\n",
    "              #'pos_fmri_beta1_df': pos_fmri_beta1_df,\n",
    "              #'pos_fmri_beta3_df': pos_fmri_beta3_df,\n",
    "              #'neg_fmri_beta1_df': neg_fmri_beta1_df,\n",
    "              #'neg_fmri_beta3_df': neg_fmri_beta3_df,\n",
    "              'sad_eeg_df': sad_eeg_df, \n",
    "              'neutral_eeg_df': neutral_eeg_df, \n",
    "              #'fert_df': fert_df,\n",
    "              #'effort_df': effort_df,\n",
    "              'questionnaire_df': questionnaire_df,\n",
    "              #'clinical_df': clinical_df,\n",
    "              'demography_df': demography_df\n",
    "              }\n",
    "\n",
    "def print_nan_info(df_name, df):\n",
    "    nan_counts = df.isna().sum()\n",
    "    nan_counts = nan_counts[nan_counts > 0]\n",
    "    if not nan_counts.empty:\n",
    "        print(f'\\nNaNs in {df_name}:')\n",
    "        for column, count in nan_counts.items():\n",
    "            print(f'  Column: {column}, NaNs: {count}')\n",
    "\n",
    "for df_name, df in dataframes.items():\n",
    "    print_nan_info(df_name, df)"
   ],
   "metadata": {
    "collapsed": false
   },
   "id": "ea418142db63c956"
  },
  {
   "cell_type": "markdown",
   "source": [
    "### drop \"overviewSheet_CRP_Main1\" if nan ratio is above 20"
   ],
   "metadata": {
    "collapsed": false
   },
   "id": "2569dea292372ee1"
  },
  {
   "cell_type": "code",
   "execution_count": null,
   "outputs": [],
   "source": [
    "clinical_df.drop(columns=['overviewSheet_CRP_Main1'], inplace=True)"
   ],
   "metadata": {
    "collapsed": false
   },
   "id": "922831a55383c031"
  },
  {
   "cell_type": "markdown",
   "source": [
    "### CONTROL STUDIES - drop additional columns "
   ],
   "metadata": {
    "collapsed": false
   },
   "id": "b3387740dedfc7fa"
  },
  {
   "cell_type": "code",
   "execution_count": null,
   "outputs": [],
   "source": [
    "demography_df.drop(columns=['relapse'], inplace=True)"
   ],
   "metadata": {
    "collapsed": false
   },
   "id": "fc838a36553b477f"
  },
  {
   "cell_type": "code",
   "execution_count": null,
   "outputs": [],
   "source": [
    "# Replace NaN in 'R_Amy' column with the median of that column without inplace argument\n",
    "neg_fmri_df = neg_fmri_df.assign(R_Amy=neg_fmri_df['R_Amy'].fillna(neg_fmri_df['R_Amy'].median()))\n",
    "pos_fmri_df.fillna(0, inplace=True)\n",
    "neg_fmri_df.fillna(0, inplace=True)"
   ],
   "metadata": {
    "collapsed": false
   },
   "id": "7c8c3cfccaacdc88"
  },
  {
   "cell_type": "code",
   "execution_count": null,
   "outputs": [],
   "source": [
    "#pos_fmri_beta1_df.fillna(0, inplace=True)\n",
    "#pos_fmri_beta3_df.fillna(0, inplace=True)\n",
    "\n",
    "#neg_fmri_beta1_df.fillna(0, inplace=True)\n",
    "#neg_fmri_beta3_df.fillna(0, inplace=True)"
   ],
   "metadata": {
    "collapsed": false
   },
   "id": "9a5d6d2d3981226c"
  },
  {
   "cell_type": "markdown",
   "source": [
    "### drop the \"ppid\" column for all modalities excluding \"demography_df\""
   ],
   "metadata": {
    "collapsed": false
   },
   "id": "5ea4b84290357c5e"
  },
  {
   "cell_type": "code",
   "execution_count": null,
   "outputs": [],
   "source": [
    "smri_df = smri_df.drop(columns=['ppid'])\n",
    "\n",
    "pos_fmri_df = pos_fmri_df.drop(columns=['ppid'])\n",
    "neg_fmri_df = neg_fmri_df.drop(columns=['ppid'])\n",
    "\n",
    "#pos_fmri_beta1_df = pos_fmri_beta1_df.drop(columns=['ppid'])\n",
    "#pos_fmri_beta3_df = pos_fmri_beta3_df.drop(columns=['ppid'])\n",
    "#neg_fmri_beta1_df = neg_fmri_beta1_df.drop(columns=['ppid'])\n",
    "#neg_fmri_beta3_df = neg_fmri_beta3_df.drop(columns=['ppid'])\n",
    "\n",
    "sad_eeg_df = sad_eeg_df.drop(columns=['ppid'])\n",
    "neutral_eeg_df = neutral_eeg_df.drop(columns=['ppid'])\n",
    "\n",
    "fert_df = fert_df.drop(columns=['ppid'])\n",
    "effort_df = effort_df.drop(columns=['ppid'])\n",
    "\n",
    "questionnaire_df = questionnaire_df.drop(columns=['ppid'])\n",
    "clinical_df = clinical_df.drop(columns=['ppid'])"
   ],
   "metadata": {
    "collapsed": false
   },
   "id": "520801eb4d04b8e2"
  },
  {
   "cell_type": "code",
   "execution_count": null,
   "outputs": [],
   "source": [
    "sad_alpha_df = sad_alpha_df.drop(columns=['ppid'])\n",
    "sad_beta_df = sad_beta_df.drop(columns=['ppid'])\n",
    "sad_delta_df = sad_delta_df.drop(columns=['ppid'])\n",
    "sad_gamma_df = sad_gamma_df.drop(columns=['ppid'])\n",
    "sad_theta_df = sad_theta_df.drop(columns=['ppid'])\n",
    "\n",
    "questionnaire_df = questionnaire_df.drop(columns=['ppid'])"
   ],
   "metadata": {
    "collapsed": false
   },
   "id": "15922b828a03a7c5"
  },
  {
   "cell_type": "markdown",
   "source": [
    "### concatenate the chosen modalities into one dataframe"
   ],
   "metadata": {
    "collapsed": false
   },
   "id": "3cf1ea535a98f531"
  },
  {
   "cell_type": "code",
   "execution_count": null,
   "outputs": [],
   "source": [
    "all_modalities = pd.concat([demography_df,\n",
    "                            #smri_df,\n",
    "                            #pos_fmri_df,\n",
    "                            #neg_fmri_df,\n",
    "                            #pos_fmri_beta1_df,\n",
    "                            #pos_fmri_beta3_df,\n",
    "                            #neg_fmri_beta1_df,\n",
    "                            #neg_fmri_beta3_df,\n",
    "                            sad_eeg_df,\n",
    "                            neutral_eeg_df,\n",
    "                            #fert_df,\n",
    "                            #effort_df,\n",
    "                            questionnaire_df,\n",
    "                            #clinical_df\n",
    "                            ],\n",
    "                           axis=1)"
   ],
   "metadata": {
    "collapsed": false
   },
   "id": "95335b2d33a82597"
  },
  {
   "cell_type": "code",
   "execution_count": null,
   "outputs": [],
   "source": [
    "all_modalities = pd.concat([demography_df,\n",
    "                            sad_alpha_df,\n",
    "                            sad_beta_df,\n",
    "                            sad_delta_df,\n",
    "                            sad_gamma_df,\n",
    "                            sad_theta_df,\n",
    "                            questionnaire_df,\n",
    "                            ],\n",
    "                           axis=1)"
   ],
   "metadata": {
    "collapsed": false
   },
   "id": "6a05b0da2777368e"
  },
  {
   "cell_type": "markdown",
   "source": [
    "### remove rows with nan for fMRI"
   ],
   "metadata": {
    "collapsed": false
   },
   "id": "cf00eb333c15b76a"
  },
  {
   "cell_type": "code",
   "execution_count": null,
   "outputs": [],
   "source": [
    "#all_modalities = all_modalities[~all_modalities['ppid'].isin(rows_w_nan)]"
   ],
   "metadata": {
    "collapsed": false
   },
   "id": "348227e1afdbd9e9"
  },
  {
   "cell_type": "markdown",
   "source": [
    "### CONTROL STUDIES - Change column names for EEG"
   ],
   "metadata": {
    "collapsed": false
   },
   "id": "12a4068a7694c679"
  },
  {
   "cell_type": "code",
   "execution_count": null,
   "outputs": [],
   "source": [
    "# Replace the specified parts in the column names\n",
    "all_modalities.columns = all_modalities.columns.str.replace('_alpha_sad', '_a_s', regex=False)\n",
    "all_modalities.columns = all_modalities.columns.str.replace('_beta_sad', '_b_s', regex=False)\n",
    "all_modalities.columns = all_modalities.columns.str.replace('_gamma_sad', '_g_s', regex=False)\n",
    "all_modalities.columns = all_modalities.columns.str.replace('_theta_sad', '_t_s', regex=False)\n",
    "all_modalities.columns = all_modalities.columns.str.replace('_delta_sad', '_d_s', regex=False)\n",
    "all_modalities.columns = all_modalities.columns.str.replace('_alpha_neutral', '_a_n', regex=False)\n",
    "all_modalities.columns = all_modalities.columns.str.replace('_beta_neutral', '_b_n', regex=False)\n",
    "all_modalities.columns = all_modalities.columns.str.replace('_theta_neutral', '_t_n', regex=False)\n",
    "all_modalities.columns = all_modalities.columns.str.replace('_delta_neutral', '_d_n', regex=False)\n",
    "all_modalities.columns = all_modalities.columns.str.replace('_gamma_neutral', '_g_n', regex=False)"
   ],
   "metadata": {
    "collapsed": false
   },
   "id": "b7f75cfc7ad57e6b"
  },
  {
   "cell_type": "markdown",
   "source": [
    "### RELAPSE COHORT - change relapse column for alternative for SUBGROUP EXPERIMENTS, however, keep the column name \"relapse\" for integrity of code"
   ],
   "metadata": {
    "collapsed": false
   },
   "id": "7c9027755fceb771"
  },
  {
   "cell_type": "code",
   "execution_count": null,
   "outputs": [],
   "source": [
    "score_mapping = tmt_A_df.set_index('ppid')['baselinecomplete_TMT_A_Time_sec_']\n",
    "all_modalities['relapse'] = all_modalities['ppid'].map(score_mapping)\n",
    "all_modalities.drop(columns=['baselinecomplete_TMT_A_Time_sec_'], inplace=True)"
   ],
   "metadata": {
    "collapsed": false
   },
   "id": "f1e7a00146b11f9b"
  },
  {
   "cell_type": "markdown",
   "source": [
    "### RELAPSE STUDIES - adjust the all modalities dataframe according to subgroups: relapse patients should come first, and no relapse patients should come second."
   ],
   "metadata": {
    "collapsed": false
   },
   "id": "c60ec6e9f7920ced"
  },
  {
   "cell_type": "code",
   "execution_count": null,
   "outputs": [],
   "source": [
    "all_modalities = all_modalities.sort_values(by='relapse', ascending=False).reset_index(drop=True)\n",
    "#all_modalities = all_modalities.drop(columns=['isControl'])"
   ],
   "metadata": {
    "collapsed": false
   },
   "id": "687b965a2d25cd3b"
  },
  {
   "cell_type": "markdown",
   "source": [
    "### CONTROL STUDIES -  adjust the all modalities dataframe according to subgroups: controls should come first, and patients should come second."
   ],
   "metadata": {
    "collapsed": false
   },
   "id": "b4d4ce2c2574e8fb"
  },
  {
   "cell_type": "code",
   "execution_count": null,
   "outputs": [],
   "source": [
    "all_modalities = all_modalities.sort_values(by='isControl', ascending=False).reset_index(drop=True)"
   ],
   "metadata": {
    "collapsed": false
   },
   "id": "59f0565b068cd5b7"
  },
  {
   "cell_type": "markdown",
   "source": [
    "### save all modalities dataframe"
   ],
   "metadata": {
    "collapsed": false
   },
   "id": "aeaa0e4037236c46"
  },
  {
   "cell_type": "code",
   "execution_count": null,
   "outputs": [],
   "source": [
    "all_modalities.to_csv(\"./aida_model/all_modalities/all_modalities(all_modalities).csv\", index=False)"
   ],
   "metadata": {
    "collapsed": false
   },
   "id": "8150018439d0d012"
  },
  {
   "cell_type": "markdown",
   "source": [
    "\n",
    "\n",
    "\n"
   ],
   "metadata": {
    "collapsed": false
   },
   "id": "703baa1728b0640d"
  },
  {
   "cell_type": "markdown",
   "source": [
    "# scaling search"
   ],
   "metadata": {
    "collapsed": false
   },
   "id": "1b2c63a796a09ec4"
  },
  {
   "cell_type": "code",
   "execution_count": null,
   "outputs": [],
   "source": [
    "import pandas as pd\n",
    "from sklearn.preprocessing import StandardScaler, PowerTransformer\n",
    "import matplotlib.pyplot as plt\n",
    "import os"
   ],
   "metadata": {
    "collapsed": false
   },
   "id": "94d074765aad528d"
  },
  {
   "cell_type": "code",
   "execution_count": null,
   "outputs": [],
   "source": [
    "scaler = StandardScaler()"
   ],
   "metadata": {
    "collapsed": false
   },
   "id": "5271390e7ec41ec7"
  },
  {
   "cell_type": "code",
   "execution_count": null,
   "outputs": [],
   "source": [
    "X = df.copy()\n",
    "X = X.iloc[:, 6:].reset_index(drop=True)\n",
    "X.to_csv('output.csv', index=False)\n",
    "\n",
    "X1_columns = slice(0, 69)\n",
    "X2_columns = slice(69, 138)\n",
    "X3_columns = slice(138, 207)\n",
    "X4_columns = slice(207, 362)\n",
    "X5_columns = slice(362, 368)\n",
    "X6_columns = slice(368, 383)\n",
    "X7_columns = slice(383, 455)\n",
    "X8_columns = slice(455, 463)\n",
    "\n",
    "X1 = X.iloc[:, X1_columns]\n",
    "X2 = X.iloc[:, X2_columns]\n",
    "X3 = X.iloc[:, X3_columns]\n",
    "X4 = X.iloc[:, X4_columns]\n",
    "X5 = X.iloc[:, X5_columns]\n",
    "X6 = X.iloc[:, X6_columns]\n",
    "X7 = X.iloc[:, X7_columns]\n",
    "X8 = X.iloc[:, X8_columns]\n",
    "\n",
    "\"\"\"\n",
    "X[:, X1_columns] = scaler.fit_transform(X[:, X1_columns])\n",
    "X[:, X2_columns] = scaler.fit_transform(X[:, X2_columns])\n",
    "X[:, X3_columns] = scaler.fit_transform(X[:, X3_columns])\n",
    "X[:, X4_columns] = scaler.fit_transform(X[:, X4_columns])\n",
    "X[:, X5_columns] = scaler.fit_transform(X[:, X5_columns])\n",
    "X[:, X6_columns] = scaler.fit_transform(X[:, X6_columns])\n",
    "\n",
    "for col in range(X7_columns.start, X7_columns.stop):\n",
    "    X[:, col] = scaler.fit_transform(X[:, col].reshape(-1, 1)).flatten()\n",
    "\n",
    "for col in range(X8_columns.start, X8_columns.stop):\n",
    "    X[:, col] = scaler.fit_transform(X[:, col].reshape(-1, 1)).flatten()\n",
    "\"\"\""
   ],
   "metadata": {
    "collapsed": false
   },
   "id": "d3b1b77d40310034"
  },
  {
   "cell_type": "markdown",
   "source": [
    "### fMRI"
   ],
   "metadata": {
    "collapsed": false
   },
   "id": "8d86e5d690fbc3f2"
  },
  {
   "cell_type": "markdown",
   "source": [
    "# Feature-wise Standard Scaling"
   ],
   "metadata": {
    "collapsed": false
   },
   "id": "6829c4b77c0a95f5"
  },
  {
   "cell_type": "code",
   "execution_count": null,
   "outputs": [],
   "source": [
    "X2_scaled = scaler.fit_transform(X2)\n",
    "X3_scaled = scaler.fit_transform(X3)\n",
    "\n",
    "\"\"\"\n",
    "plt.figure(figsize=(14, 6))\n",
    "\n",
    "plt.subplot(1, 2, 1)\n",
    "plt.hist(X2_scaled.flatten(), bins=50, color='skyblue', edgecolor='black')\n",
    "plt.title('Distribution of X2 (fMRI Positive) after Scaling')\n",
    "plt.xlabel('Value')\n",
    "plt.ylabel('Frequency')\n",
    "\n",
    "plt.subplot(1, 2, 2)\n",
    "plt.hist(X3_scaled.flatten(), bins=50, color='lightcoral', edgecolor='black')\n",
    "plt.title('Distribution of X3 (fMRI Negative) after Scaling')\n",
    "plt.xlabel('Value')\n",
    "plt.ylabel('Frequency')\n",
    "\n",
    "plt.tight_layout()\n",
    "plt.show()\n",
    "\"\"\"\n",
    "\n",
    "os.makedirs('plots/X2_scaled', exist_ok=True)\n",
    "os.makedirs('plots/X3_scaled', exist_ok=True)\n",
    "\n",
    "# Plot each feature of X2 after scaling and save\n",
    "for i in range(X2_scaled.shape[1]):\n",
    "    plt.figure()\n",
    "    plt.hist(X2_scaled[:, i], bins=50, color='skyblue', edgecolor='black')\n",
    "    plt.title(f'Distribution of X2 Feature {i+1} after Scaling')\n",
    "    plt.xlabel('Value')\n",
    "    plt.ylabel('Frequency')\n",
    "    plt.savefig(f'plots/X2_scaled/X2_feature_{i+1}.png')\n",
    "    plt.close()\n",
    "\n",
    "# Plot each feature of X3 after scaling and save\n",
    "for i in range(X3_scaled.shape[1]):\n",
    "    plt.figure()\n",
    "    plt.hist(X3_scaled[:, i], bins=50, color='lightcoral', edgecolor='black')\n",
    "    plt.title(f'Distribution of X3 Feature {i+1} after Scaling')\n",
    "    plt.xlabel('Value')\n",
    "    plt.ylabel('Frequency')\n",
    "    plt.savefig(f'plots/X3_scaled/X3_feature_{i+1}.png')\n",
    "    plt.close()"
   ],
   "metadata": {
    "collapsed": false
   },
   "id": "a0d33d02968e8b"
  },
  {
   "cell_type": "markdown",
   "source": [
    "# Feature-wise Standard Scaling + PowerTransformer w/ yeo-johnson"
   ],
   "metadata": {
    "collapsed": false
   },
   "id": "f7e8ebd6292d6133"
  },
  {
   "cell_type": "code",
   "execution_count": null,
   "outputs": [],
   "source": [
    "X2_scaled = scaler.fit_transform(X2)\n",
    "X3_scaled = scaler.fit_transform(X3)\n",
    "\n",
    "transformer = PowerTransformer(method='yeo-johnson')\n",
    "X2_transformed = transformer.fit_transform(X2_scaled)\n",
    "X3_transformed = transformer.fit_transform(X3_scaled)\n",
    "\n",
    "\"\"\"\n",
    "plt.figure(figsize=(14, 6))\n",
    "\n",
    "plt.subplot(1, 2, 1)\n",
    "plt.hist(X2_transformed.flatten(), bins=50, color='skyblue', edgecolor='black')\n",
    "plt.title('Distribution of X2 (fMRI Positive) after Yeo-Johnson Transformation')\n",
    "plt.xlabel('Value')\n",
    "plt.ylabel('Frequency')\n",
    "\n",
    "plt.subplot(1, 2, 2)\n",
    "plt.hist(X3_transformed.flatten(), bins=50, color='lightcoral', edgecolor='black')\n",
    "plt.title('Distribution of X3 (fMRI Negative) after Yeo-Johnson Transformation')\n",
    "plt.xlabel('Value')\n",
    "plt.ylabel('Frequency')\n",
    "\n",
    "plt.tight_layout()\n",
    "plt.show()\n",
    "\"\"\"\n",
    "\n",
    "os.makedirs('plots/X2_scaled_transformed', exist_ok=True)\n",
    "os.makedirs('plots/X3_scaled_transformed', exist_ok=True)\n",
    "\n",
    "for i in range(X2_transformed.shape[1]):\n",
    "    plt.figure()\n",
    "    plt.hist(X2_transformed[:, i], bins=50, color='skyblue', edgecolor='black')\n",
    "    plt.title(f'Distribution of X2 Feature {i+1} after Yeo-Johnson Transformation')\n",
    "    plt.xlabel('Value')\n",
    "    plt.ylabel('Frequency')\n",
    "    plt.savefig(f'plots/X2_scaled_transformed/X2_feature_{i+1}.png')\n",
    "    plt.close()\n",
    "\n",
    "for i in range(X3_transformed.shape[1]):\n",
    "    plt.figure()\n",
    "    plt.hist(X3_transformed[:, i], bins=50, color='lightcoral', edgecolor='black')\n",
    "    plt.title(f'Distribution of X3 Feature {i+1} after Yeo-Johnson Transformation')\n",
    "    plt.xlabel('Value')\n",
    "    plt.ylabel('Frequency')\n",
    "    plt.savefig(f'plots/X3_scaled_transformed/X3_feature_{i+1}.png')\n",
    "    plt.close()"
   ],
   "metadata": {
    "collapsed": false
   },
   "id": "522516f2842ae4fc"
  },
  {
   "cell_type": "markdown",
   "source": [
    "### structural MRI"
   ],
   "metadata": {
    "collapsed": false
   },
   "id": "2051a7b01725911c"
  },
  {
   "cell_type": "markdown",
   "source": [
    "# Feature-wise Standard Scaling"
   ],
   "metadata": {
    "collapsed": false
   },
   "id": "7466117bfff17b1a"
  },
  {
   "cell_type": "code",
   "execution_count": null,
   "outputs": [],
   "source": [
    "min_value, max_value = X1.min().min(), X1.max().max()\n",
    "\n",
    "print(\"Minimum value and Maximum value\", min_value, \",\", max_value)"
   ],
   "metadata": {
    "collapsed": false
   },
   "id": "a3dffbd7fec92a2b"
  },
  {
   "cell_type": "code",
   "execution_count": null,
   "outputs": [],
   "source": [
    "X1_scaled = scaler.fit_transform(X1)\n",
    "\n",
    "\"\"\"\n",
    "plt.figure(figsize=(14, 6))\n",
    "plt.subplot(1, 2, 1)\n",
    "plt.hist(X1_scaled.flatten(), bins=50, color='skyblue', edgecolor='black')\n",
    "plt.title('Distribution of X1 (structural MRI) after Scaling')\n",
    "plt.xlabel('Value')\n",
    "plt.ylabel('Frequency')\n",
    "plt.tight_layout()\n",
    "plt.show()\n",
    "\"\"\"\n",
    "\n",
    "os.makedirs('plots/X1_scaled', exist_ok=True)\n",
    "\n",
    "for i in range(X1_scaled.shape[1]):\n",
    "    plt.figure()\n",
    "    plt.hist(X1_scaled[:, i], bins=50, color='skyblue', edgecolor='black')\n",
    "    plt.title(f'Distribution of X1 Feature {i+1} after Scaling')\n",
    "    plt.xlabel('Value')\n",
    "    plt.ylabel('Frequency')\n",
    "    plt.savefig(f'plots/X1_scaled/X1_feature_{i+1}.png')\n",
    "    plt.close()"
   ],
   "metadata": {
    "collapsed": false
   },
   "id": "8569bed692072e15"
  },
  {
   "cell_type": "markdown",
   "source": [
    "# Feature-wise Standard Scaling + PowerTransformer w/ yeo-johnson"
   ],
   "metadata": {
    "collapsed": false
   },
   "id": "e15f243c6675c081"
  },
  {
   "cell_type": "code",
   "execution_count": null,
   "outputs": [],
   "source": [
    "X1_scaled = scaler.fit_transform(X1)\n",
    "\n",
    "transformer = PowerTransformer(method='yeo-johnson')\n",
    "X1_transformed = transformer.fit_transform(X1_scaled)\n",
    "\n",
    "\"\"\"\n",
    "plt.figure(figsize=(14, 6))\n",
    "plt.subplot(1, 2, 1)\n",
    "plt.hist(X1_transformed.flatten(), bins=50, color='skyblue', edgecolor='black')\n",
    "plt.title('Distribution of X1 (structural MRI) after Scaling and Yeo-Johnson Transformation')\n",
    "plt.xlabel('Value')\n",
    "plt.ylabel('Frequency')\n",
    "plt.tight_layout()\n",
    "plt.show()\n",
    "\"\"\"\n",
    "\n",
    "os.makedirs('plots/X1_scaled_transformed', exist_ok=True)\n",
    "\n",
    "for i in range(X1_transformed.shape[1]):\n",
    "    plt.figure()\n",
    "    plt.hist(X1_transformed[:, i], bins=50, color='skyblue', edgecolor='black')\n",
    "    plt.title(f'Distribution of X1 Feature {i+1} after Scaling and Yeo-Johnson Transformation')\n",
    "    plt.xlabel('Value')\n",
    "    plt.ylabel('Frequency')\n",
    "    plt.savefig(f'plots/X1_scaled_transformed/X1_feature_{i+1}.png')\n",
    "    plt.close()"
   ],
   "metadata": {
    "collapsed": false
   },
   "id": "b3eb47431676fa92"
  },
  {
   "cell_type": "markdown",
   "source": [
    "### EEG"
   ],
   "metadata": {
    "collapsed": false
   },
   "id": "d963ed113e609848"
  },
  {
   "cell_type": "markdown",
   "source": [
    "# Feature-wise Standard Scaling"
   ],
   "metadata": {
    "collapsed": false
   },
   "id": "2cd5d22078582709"
  },
  {
   "cell_type": "code",
   "execution_count": null,
   "outputs": [],
   "source": [
    "X4_scaled = scaler.fit_transform(X4)\n",
    "\n",
    "\"\"\"\n",
    "plt.figure(figsize=(14, 6))\n",
    "plt.subplot(1, 2, 1)\n",
    "plt.hist(X4_scaled.flatten(), bins=50, color='skyblue', edgecolor='black')\n",
    "plt.title('Distribution of X4 (EEG) after Scaling')\n",
    "plt.xlabel('Value')\n",
    "plt.ylabel('Frequency')\n",
    "plt.tight_layout()\n",
    "plt.show()\n",
    "\"\"\"\n",
    "\n",
    "os.makedirs('plots/X4_scaled', exist_ok=True)\n",
    "\n",
    "for i in range(X1_scaled.shape[1]):\n",
    "    plt.figure()\n",
    "    plt.hist(X4_scaled[:, i], bins=50, color='skyblue', edgecolor='black')\n",
    "    plt.title(f'Distribution of X4 Feature {i + 1} after Scaling')\n",
    "    plt.xlabel('Value')\n",
    "    plt.ylabel('Frequency')\n",
    "    plt.savefig(f'plots/X4_scaled/X4_feature_{i + 1}.png')\n",
    "    plt.close()"
   ],
   "metadata": {
    "collapsed": false
   },
   "id": "39c57ba39b5e1f45"
  },
  {
   "cell_type": "markdown",
   "source": [
    "# Feature-wise Standard Scaling + PowerTransformer w/ yeo-johnson"
   ],
   "metadata": {
    "collapsed": false
   },
   "id": "27562ca6a598e987"
  },
  {
   "cell_type": "code",
   "execution_count": null,
   "outputs": [],
   "source": [
    "X4_scaled = scaler.fit_transform(X4)\n",
    "\n",
    "transformer = PowerTransformer(method='yeo-johnson')\n",
    "X4_transformed = transformer.fit_transform(X4_scaled)\n",
    "\n",
    "\"\"\"\n",
    "plt.figure(figsize=(14, 6))\n",
    "plt.subplot(1, 2, 1)\n",
    "plt.hist(X4_transformed.flatten(), bins=50, color='skyblue', edgecolor='black')\n",
    "plt.title('Distribution of X4 (EEG) after Scaling and Yeo-Johnson Transformation')\n",
    "plt.xlabel('Value')\n",
    "plt.ylabel('Frequency')\n",
    "plt.tight_layout()\n",
    "plt.show()\n",
    "\"\"\"\n",
    "\n",
    "os.makedirs('plots/X4_scaled_transformed', exist_ok=True)\n",
    "\n",
    "for i in range(X1_transformed.shape[1]):\n",
    "    plt.figure()\n",
    "    plt.hist(X1_transformed[:, i], bins=50, color='skyblue', edgecolor='black')\n",
    "    plt.title(f'Distribution of X4 Feature {i+1} after Scaling and Yeo-Johnson Transformation')\n",
    "    plt.xlabel('Value')\n",
    "    plt.ylabel('Frequency')\n",
    "    plt.savefig(f'plots/X4_scaled_transformed/X4_feature_{i+1}.png')\n",
    "    plt.close()"
   ],
   "metadata": {
    "collapsed": false
   },
   "id": "5772b8812a5c31a5"
  },
  {
   "cell_type": "markdown",
   "source": [
    "### Questionnaires"
   ],
   "metadata": {
    "collapsed": false
   },
   "id": "7203556d5fa8f612"
  },
  {
   "cell_type": "markdown",
   "source": [
    "# Feature-wise Standard Scaling"
   ],
   "metadata": {
    "collapsed": false
   },
   "id": "4df41f5d8a8256d0"
  },
  {
   "cell_type": "code",
   "execution_count": null,
   "outputs": [],
   "source": [
    "X7_scaled = scaler.fit_transform(X7)\n",
    "\n",
    "\"\"\"\n",
    "plt.figure(figsize=(14, 6))\n",
    "plt.subplot(1, 2, 1)\n",
    "plt.hist(X7_scaled.flatten(), bins=50, color='skyblue', edgecolor='black')\n",
    "plt.title('Distribution of X7 (Questionnaires) after Scaling')\n",
    "plt.xlabel('Value')\n",
    "plt.ylabel('Frequency')\n",
    "plt.tight_layout()\n",
    "plt.show()\n",
    "\"\"\"\n",
    "\n",
    "os.makedirs('plots/X7_scaled', exist_ok=True)\n",
    "\n",
    "for i in range(X7_scaled.shape[1]):\n",
    "    plt.figure()\n",
    "    plt.hist(X7_scaled[:, i], bins=50, color='skyblue', edgecolor='black')\n",
    "    plt.title(f'Distribution of X7 Feature {i+1} after Scaling')\n",
    "    plt.xlabel('Value')\n",
    "    plt.ylabel('Frequency')\n",
    "    plt.savefig(f'plots/X7_scaled/X7_feature_{i+1}.png')\n",
    "    plt.close()"
   ],
   "metadata": {
    "collapsed": false
   },
   "id": "b1e3ded376a42257"
  },
  {
   "cell_type": "markdown",
   "source": [
    "# Feature-wise Standard Scaling + PowerTransformer w/ yeo-johnson"
   ],
   "metadata": {
    "collapsed": false
   },
   "id": "4a5ea69292564af4"
  },
  {
   "cell_type": "code",
   "execution_count": null,
   "outputs": [],
   "source": [
    "X7_scaled = scaler.fit_transform(X7)\n",
    "\n",
    "transformer = PowerTransformer(method='yeo-johnson')\n",
    "X7_transformed = transformer.fit_transform(X7_scaled)\n",
    "\n",
    "\"\"\"\n",
    "plt.figure(figsize=(14, 6))\n",
    "plt.subplot(1, 2, 1)\n",
    "plt.hist(X7_transformed.flatten(), bins=50, color='skyblue', edgecolor='black')\n",
    "plt.title('Distribution of X7 (EEG) after Scaling and Yeo-Johnson Transformation')\n",
    "plt.xlabel('Value')\n",
    "plt.ylabel('Frequency')\n",
    "plt.tight_layout()\n",
    "plt.show()\n",
    "\"\"\"\n",
    "\n",
    "os.makedirs('plots/X7_scaled_transformed', exist_ok=True)\n",
    "\n",
    "for i in range(X7_transformed.shape[1]):\n",
    "    plt.figure()\n",
    "    plt.hist(X7_transformed[:, i], bins=50, color='skyblue', edgecolor='black')\n",
    "    plt.title(f'Distribution of X7 Feature {i+1} after Scaling and Yeo-Johnson Transformation')\n",
    "    plt.xlabel('Value')\n",
    "    plt.ylabel('Frequency')\n",
    "    plt.savefig(f'plots/X7_scaled_transformed/X7_feature_{i+1}.png')\n",
    "    plt.close()"
   ],
   "metadata": {
    "collapsed": false
   },
   "id": "b39988931c92da3"
  },
  {
   "cell_type": "markdown",
   "source": [],
   "metadata": {
    "collapsed": false
   },
   "id": "860d45a8e6d0e7b4"
  }
 ],
 "metadata": {
  "kernelspec": {
   "display_name": "Python 3",
   "language": "python",
   "name": "python3"
  },
  "language_info": {
   "codemirror_mode": {
    "name": "ipython",
    "version": 2
   },
   "file_extension": ".py",
   "mimetype": "text/x-python",
   "name": "python",
   "nbconvert_exporter": "python",
   "pygments_lexer": "ipython2",
   "version": "2.7.6"
  }
 },
 "nbformat": 4,
 "nbformat_minor": 5
}
